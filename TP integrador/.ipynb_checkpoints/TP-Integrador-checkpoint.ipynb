{
 "cells": [
  {
   "cell_type": "markdown",
   "metadata": {},
   "source": [
    "### This is the tutorial of deep learning on FashionMNIST dataset using Pytorch. We will build a Convolutional Neural Network for predicting the classes of Dataset. I am assuming you know the basics of deep leanrning like layer architecture... convolution concepts. Without further ado... Lets start the tutorial."
   ]
  },
  {
   "cell_type": "markdown",
   "metadata": {
    "colab_type": "text",
    "id": "1rm65OztSCpF"
   },
   "source": [
    "# **Importing Important Libraries**"
   ]
  },
  {
   "cell_type": "code",
   "execution_count": 62,
   "metadata": {
    "colab": {},
    "colab_type": "code",
    "execution": {
     "iopub.execute_input": "2022-08-03T22:28:27.137983Z",
     "iopub.status.busy": "2022-08-03T22:28:27.137214Z",
     "iopub.status.idle": "2022-08-03T22:28:28.944846Z",
     "shell.execute_reply": "2022-08-03T22:28:28.941746Z",
     "shell.execute_reply.started": "2022-08-03T22:28:27.137893Z"
    },
    "id": "-1_8VZgpEtea"
   },
   "outputs": [],
   "source": [
    "import numpy as np\n",
    "import pandas as pd\n",
    "import matplotlib.pyplot as plt\n",
    "\n",
    "import torch\n",
    "import torch.nn as nn\n",
    "from torch.autograd import Variable\n",
    "\n",
    "import torchvision\n",
    "import torchvision.transforms as transforms\n",
    "from torchvision.transforms import ToTensor, Lambda, Compose\n",
    "from torchvision import datasets\n",
    "from torch.utils.data import Dataset, DataLoader, random_split\n",
    "from sklearn.metrics import confusion_matrix"
   ]
  },
  {
   "cell_type": "markdown",
   "metadata": {
    "colab_type": "text",
    "id": "s6bjL6wESfoV"
   },
   "source": [
    "### If the GPU is available use it for the computation otherwise use the CPU."
   ]
  },
  {
   "cell_type": "code",
   "execution_count": 2,
   "metadata": {
    "colab": {},
    "colab_type": "code",
    "id": "q6btjJ9YTXXw"
   },
   "outputs": [],
   "source": [
    "device = torch.device(\"cuda:0\" if torch.cuda.is_available() else \"cpu\")"
   ]
  },
  {
   "cell_type": "code",
   "execution_count": 3,
   "metadata": {
    "colab": {
     "base_uri": "https://localhost:8080/",
     "height": 413
    },
    "colab_type": "code",
    "id": "PV2g1_8qUDvA",
    "outputId": "b429a123-7574-413d-d15a-92f0481e6753"
   },
   "outputs": [],
   "source": [
    "train_csv = pd.read_csv(\"fashion-mnist_train.csv\")\n",
    "test_csv = pd.read_csv(\"fashion-mnist_test.csv\")"
   ]
  },
  {
   "cell_type": "code",
   "execution_count": 4,
   "metadata": {
    "colab": {},
    "colab_type": "code",
    "id": "3Q36xjPfeo0a"
   },
   "outputs": [],
   "source": [
    "class FashionDataset(Dataset):\n",
    "    \"\"\"User defined class to build a datset using Pytorch class Dataset.\"\"\"\n",
    "    \n",
    "    def __init__(self, data, transform = None):\n",
    "        \"\"\"Method to initilaize variables.\"\"\" \n",
    "        self.fashion_MNIST = list(data.values)\n",
    "        self.transform = transform\n",
    "        \n",
    "        label = []\n",
    "        image = []\n",
    "        \n",
    "        for i in self.fashion_MNIST:\n",
    "             # first column is of labels.\n",
    "            label.append(i[0])\n",
    "            image.append(i[1:])\n",
    "        self.labels = np.asarray(label)\n",
    "        # Dimension of Images = 28 * 28 * 1. where height = width = 28 and color_channels = 1.\n",
    "        self.images = np.asarray(image).reshape(-1, 28, 28, 1).astype('float32')\n",
    "\n",
    "    def __getitem__(self, index):\n",
    "        label = self.labels[index]\n",
    "        image = self.images[index]\n",
    "        \n",
    "        if self.transform is not None:\n",
    "            image = self.transform(image)\n",
    "\n",
    "        return image, label\n",
    "\n",
    "    def __len__(self):\n",
    "        return len(self.images)"
   ]
  },
  {
   "cell_type": "code",
   "execution_count": 5,
   "metadata": {
    "colab": {},
    "colab_type": "code",
    "id": "uLeNwQWJkFkQ"
   },
   "outputs": [],
   "source": [
    "# Transform data into Tensor that has a range from 0 to 1\n",
    "train_set = FashionDataset(train_csv, transform=transforms.Compose([transforms.ToTensor()]))\n",
    "test_set = FashionDataset(test_csv, transform=transforms.Compose([transforms.ToTensor()]))"
   ]
  },
  {
   "cell_type": "code",
   "execution_count": 6,
   "metadata": {},
   "outputs": [],
   "source": [
    "train, valid = random_split(train_set,[50000,10000])"
   ]
  },
  {
   "cell_type": "code",
   "execution_count": 7,
   "metadata": {},
   "outputs": [],
   "source": [
    "train_loader = DataLoader(train, batch_size=100, shuffle =  True)\n",
    "valid_loader = DataLoader(valid, batch_size=100, shuffle =  True)\n",
    "test_loader = DataLoader(test_set, batch_size=100, shuffle = True)"
   ]
  },
  {
   "cell_type": "code",
   "execution_count": 8,
   "metadata": {
    "colab": {
     "base_uri": "https://localhost:8080/",
     "height": 54
    },
    "colab_type": "code",
    "id": "sgpYsgh0PY09",
    "outputId": "4d00bf1d-fb85-4e2a-bb21-067e75360637"
   },
   "outputs": [
    {
     "name": "stdout",
     "output_type": "stream",
     "text": [
      "<class 'torch.Tensor'> <class 'torch.Tensor'>\n",
      "torch.Size([100, 1, 28, 28]) torch.Size([100])\n"
     ]
    }
   ],
   "source": [
    "batch = next(iter(train_loader))\n",
    "images, labels = batch\n",
    "print(type(images), type(labels))\n",
    "print(images.shape, labels.shape)"
   ]
  },
  {
   "cell_type": "code",
   "execution_count": 9,
   "metadata": {},
   "outputs": [
    {
     "data": {
      "image/png": "[encoded data removed]",
      "text/plain": [
       "<Figure size 576x576 with 9 Axes>"
      ]
     },
     "metadata": {
      "needs_background": "light"
     },
     "output_type": "display_data"
    }
   ],
   "source": [
    "labels_map = {\n",
    "    0: \"T-Shirt\",\n",
    "    1: \"Trouser\",\n",
    "    2: \"Pullover\",\n",
    "    3: \"Dress\",\n",
    "    4: \"Coat\",\n",
    "    5: \"Sandal\",\n",
    "    6: \"Shirt\",\n",
    "    7: \"Sneaker\",\n",
    "    8: \"Bag\",\n",
    "    9: \"Ankle Boot\",\n",
    "}\n",
    "figure = plt.figure(figsize=(8, 8))\n",
    "cols, rows = 3, 3\n",
    "for i in range(1, cols * rows + 1):\n",
    "    sample_idx = torch.randint(len(train_set), size=(1,)).item()\n",
    "    img, label = train_set[sample_idx]\n",
    "    figure.add_subplot(rows, cols, i)\n",
    "    plt.title(labels_map[label])\n",
    "    plt.axis(\"off\")\n",
    "    plt.imshow(img.squeeze(), cmap=\"gray\")\n",
    "plt.show()"
   ]
  },
  {
   "cell_type": "code",
   "execution_count": 20,
   "metadata": {
    "colab": {},
    "colab_type": "code",
    "id": "hyCH0Q4hSgFB"
   },
   "outputs": [],
   "source": [
    "class FashionCNN(nn.Module):\n",
    "    \n",
    "    def __init__(self):\n",
    "        super(FashionCNN, self).__init__()\n",
    "        \n",
    "        self.layer1 = nn.Sequential(\n",
    "            nn.Conv2d(in_channels=1, out_channels=16, kernel_size=3, padding=1),\n",
    "            nn.BatchNorm2d(16),\n",
    "            nn.ReLU(),\n",
    "            nn.MaxPool2d(kernel_size=2, stride=2)\n",
    "        )\n",
    "        \n",
    "        self.layer2 = nn.Sequential(\n",
    "            nn.Conv2d(in_channels=16, out_channels=32, kernel_size=3),\n",
    "            nn.BatchNorm2d(32),\n",
    "            nn.ReLU(),\n",
    "            nn.MaxPool2d(2)\n",
    "        )\n",
    "        self.flatten = nn.Flatten()\n",
    "        self.fc1 = nn.Linear(in_features=32*6*6, out_features=600)\n",
    "        self.drop = nn.Dropout2d(0.30)\n",
    "        self.relu = nn.ReLU()\n",
    "        self.fc2 = nn.Linear(in_features=600, out_features=100)\n",
    "        self.fc3 = nn.Linear(in_features=100, out_features=10)\n",
    "        \n",
    "    def forward(self, x):\n",
    "        out = self.layer1(x)\n",
    "        out = self.layer2(out)\n",
    "        out = self.flatten(out)\n",
    "        out = self.fc1(out)\n",
    "        out = self.drop(out)\n",
    "        out = self.fc2(out)\n",
    "        out = self.fc3(out)\n",
    "        \n",
    "        return out\n"
   ]
  },
  {
   "cell_type": "code",
   "execution_count": 21,
   "metadata": {
    "colab": {
     "base_uri": "https://localhost:8080/",
     "height": 345
    },
    "colab_type": "code",
    "id": "NILDHzNgQ1Gt",
    "outputId": "d16327ae-e7d2-4c46-bffe-e9724272c51d"
   },
   "outputs": [
    {
     "name": "stdout",
     "output_type": "stream",
     "text": [
      "FashionCNN(\n",
      "  (layer1): Sequential(\n",
      "    (0): Conv2d(1, 16, kernel_size=(3, 3), stride=(1, 1), padding=(1, 1))\n",
      "    (1): BatchNorm2d(16, eps=1e-05, momentum=0.1, affine=True, track_running_stats=True)\n",
      "    (2): ReLU()\n",
      "    (3): MaxPool2d(kernel_size=2, stride=2, padding=0, dilation=1, ceil_mode=False)\n",
      "  )\n",
      "  (layer2): Sequential(\n",
      "    (0): Conv2d(16, 32, kernel_size=(3, 3), stride=(1, 1))\n",
      "    (1): BatchNorm2d(32, eps=1e-05, momentum=0.1, affine=True, track_running_stats=True)\n",
      "    (2): ReLU()\n",
      "    (3): MaxPool2d(kernel_size=2, stride=2, padding=0, dilation=1, ceil_mode=False)\n",
      "  )\n",
      "  (flatten): Flatten(start_dim=1, end_dim=-1)\n",
      "  (fc1): Linear(in_features=1152, out_features=600, bias=True)\n",
      "  (drop): Dropout2d(p=0.3, inplace=False)\n",
      "  (relu): ReLU()\n",
      "  (fc2): Linear(in_features=600, out_features=100, bias=True)\n",
      "  (fc3): Linear(in_features=100, out_features=10, bias=True)\n",
      ")\n"
     ]
    }
   ],
   "source": [
    "FCNN = FashionCNN()\n",
    "FCNN.to(device)\n",
    "\n",
    "loss_fn = nn.CrossEntropyLoss()\n",
    "\n",
    "learning_rate = 0.001\n",
    "optimizer = torch.optim.Adam(FCNN.parameters(), lr=learning_rate)\n",
    "print(FCNN)"
   ]
  },
  {
   "cell_type": "markdown",
   "metadata": {
    "colab_type": "text",
    "id": "im58ZlvMvkty"
   },
   "source": [
    "## Training a network and Testing it on test dataset"
   ]
  },
  {
   "cell_type": "code",
   "execution_count": 22,
   "metadata": {},
   "outputs": [],
   "source": [
    "train_loss = []\n",
    "valid_loss = []\n",
    "valid_accu = []\n",
    "\n",
    "def training(dataloader, model):\n",
    "    train = 0.0\n",
    "    model.train() \n",
    "    for batch, (image,label) in enumerate(dataloader): \n",
    "        image = image.to(device)\n",
    "        label = label.to(device)\n",
    "        \n",
    "        pred = model(image)\n",
    "    \n",
    "        loss = loss_fn(pred,label)\n",
    "    \n",
    "        optimizer.zero_grad()\n",
    "    \n",
    "        loss.backward()\n",
    "    \n",
    "        optimizer.step()\n",
    "    \n",
    "        train += loss.item()\n",
    "        \n",
    "    train /= len(dataloader)\n",
    "    \n",
    "    print(f\"Train Loss: {train}\")\n",
    "    \n",
    "    train_loss.append(train)\n",
    "\n",
    "def validate(dataloader, model):\n",
    "    model.eval() \n",
    "    valid = 0.0\n",
    "    correct = 0.0\n",
    "    total = 0.0\n",
    "    with torch.no_grad():\n",
    "        for image, label in dataloader:\n",
    "            image = image.to(device)\n",
    "            label = label.to(device)\n",
    "            \n",
    "            target = model(image)\n",
    "        \n",
    "            loss = loss_fn(target,label)\n",
    "            \n",
    "            valid += loss.item() \n",
    "            \n",
    "            predictions = torch.max(target, 1)[1].to(device)\n",
    "            \n",
    "            correct += (predictions == label).sum()\n",
    "            \n",
    "            total += len(label)\n",
    "            \n",
    "    valid /= len(dataloader)\n",
    "    \n",
    "    accuracy = correct*100/total\n",
    "        \n",
    "    print(f\"Validation Loss: {valid} \\t Validation Accuracy: {accuracy}\")\n",
    "    \n",
    "    valid_loss.append(valid)\n",
    "    \n",
    "    valid_accu.append(accuracy)"
   ]
  },
  {
   "cell_type": "code",
   "execution_count": 23,
   "metadata": {},
   "outputs": [
    {
     "name": "stdout",
     "output_type": "stream",
     "text": [
      "Epoch 1/10\n",
      "Train Loss: 0.4666362226903439\n",
      "Validation Loss: 0.325210722759366 \t Validation Accuracy: 88.54000091552734\n",
      "Epoch 2/10\n",
      "Train Loss: 0.3223978134393692\n",
      "Validation Loss: 0.33083376914262774 \t Validation Accuracy: 87.62000274658203\n",
      "Epoch 3/10\n",
      "Train Loss: 0.2860435534566641\n",
      "Validation Loss: 0.28992674708366395 \t Validation Accuracy: 89.27999877929688\n",
      "Epoch 4/10\n",
      "Train Loss: 0.26321995578706264\n",
      "Validation Loss: 0.2936419688165188 \t Validation Accuracy: 89.58999633789062\n",
      "Epoch 5/10\n",
      "Train Loss: 0.24525353519618512\n",
      "Validation Loss: 0.27181930720806124 \t Validation Accuracy: 90.27999877929688\n",
      "Epoch 6/10\n",
      "Train Loss: 0.23134562538564205\n",
      "Validation Loss: 0.2599273931235075 \t Validation Accuracy: 90.94000244140625\n",
      "Epoch 7/10\n",
      "Train Loss: 0.21644650366902352\n",
      "Validation Loss: 0.26189933076500893 \t Validation Accuracy: 90.91999816894531\n",
      "Epoch 8/10\n",
      "Train Loss: 0.21085917757451533\n",
      "Validation Loss: 0.26497430495917795 \t Validation Accuracy: 90.51000213623047\n",
      "Epoch 9/10\n",
      "Train Loss: 0.20082187536358834\n",
      "Validation Loss: 0.29707108691334727 \t Validation Accuracy: 89.83000183105469\n",
      "Epoch 10/10\n",
      "Train Loss: 0.19137610405683517\n",
      "Validation Loss: 0.2598657092452049 \t Validation Accuracy: 91.16999816894531\n"
     ]
    }
   ],
   "source": [
    "epochs = 10\n",
    "\n",
    "for e in range(1, epochs+1):\n",
    "    print(f'Epoch {e}/{epochs}')\n",
    "    training(train_loader, FCNN)\n",
    "    validate(valid_loader, FCNN)"
   ]
  },
  {
   "cell_type": "code",
   "execution_count": 24,
   "metadata": {
    "colab": {
     "base_uri": "https://localhost:8080/",
     "height": 295
    },
    "colab_type": "code",
    "id": "4s4cGX4Hanyz",
    "outputId": "4f19caa4-327f-4cca-bd9f-726774b9ddfd"
   },
   "outputs": [
    {
     "data": {
      "image/png": "[encoded data removed]",
      "text/plain": [
       "<Figure size 432x288 with 1 Axes>"
      ]
     },
     "metadata": {
      "needs_background": "light"
     },
     "output_type": "display_data"
    }
   ],
   "source": [
    "plt.plot([i for i in range(1, epochs+1)],train_loss)\n",
    "plt.plot([i for i in range(1, epochs+1)],valid_loss, c ='orange')\n",
    "plt.xlabel(\"No. of Epoch\")\n",
    "plt.ylabel(\"Loss\")\n",
    "plt.title(\"Training Loss\")\n",
    "plt.show()"
   ]
  },
  {
   "cell_type": "code",
   "execution_count": 25,
   "metadata": {},
   "outputs": [
    {
     "data": {
      "image/png": "[encoded data removed]",
      "text/plain": [
       "<Figure size 432x288 with 1 Axes>"
      ]
     },
     "metadata": {
      "needs_background": "light"
     },
     "output_type": "display_data"
    }
   ],
   "source": [
    "plt.plot([i for i in range(1, epochs+1)],valid_accu)\n",
    "plt.xlabel(\"No. of Epoch\")\n",
    "plt.ylabel(\"Loss\")\n",
    "plt.title(\"Validation Loss\")\n",
    "plt.show()"
   ]
  },
  {
   "cell_type": "markdown",
   "metadata": {
    "colab_type": "text",
    "id": "mZTkzUKn0vq3"
   },
   "source": [
    "### Looking the Accuracy in each class of FashionMNIST dataset"
   ]
  },
  {
   "cell_type": "code",
   "execution_count": 26,
   "metadata": {
    "colab": {
     "base_uri": "https://localhost:8080/",
     "height": 199
    },
    "colab_type": "code",
    "id": "Mq9_qes8Qg6h",
    "outputId": "fd7e3194-d5ab-4c3d-8693-ced0369df983"
   },
   "outputs": [
    {
     "name": "stdout",
     "output_type": "stream",
     "text": [
      "Accuracy of T-Shirt: 85.30%\n",
      "Accuracy of Trouser: 98.20%\n",
      "Accuracy of Pullover: 88.40%\n",
      "Accuracy of Dress: 94.70%\n",
      "Accuracy of Coat: 87.90%\n",
      "Accuracy of Sandal: 98.80%\n",
      "Accuracy of Shirt: 74.80%\n",
      "Accuracy of Sneaker: 95.20%\n",
      "Accuracy of Bag: 97.40%\n",
      "Accuracy of Ankle Boot: 95.70%\n"
     ]
    }
   ],
   "source": [
    "class_correct = [0. for _ in range(10)]\n",
    "total_correct = [0. for _ in range(10)]\n",
    "\n",
    "with torch.no_grad():\n",
    "    for images, labels in test_loader:\n",
    "        images, labels = images.to(device), labels.to(device)\n",
    "        test = images\n",
    "        outputs = FCNN(test)\n",
    "        predicted = torch.max(outputs, 1)[1]\n",
    "        c = (predicted == labels).squeeze()\n",
    "        \n",
    "        for i in range(100):\n",
    "            label = labels[i]\n",
    "            class_correct[label] += c[i].item()\n",
    "            total_correct[label] += 1\n",
    "            \n",
    "label_list = list(labels_map.values()) #Transforma el diccionario en una lista    \n",
    "for i in range(10):\n",
    "    print(\"Accuracy of {}: {:.2f}%\".format(label_list[i], class_correct[i] * 100 / total_correct[i]))"
   ]
  },
  {
   "cell_type": "code",
   "execution_count": 63,
   "metadata": {},
   "outputs": [],
   "source": [
    "train_dataset_all = datasets.FashionMNIST(\n",
    "    root=\"data\",\n",
    "    train=True,\n",
    "    download=True,\n",
    "    transform=ToTensor()\n",
    ")\n",
    "\n",
    "test_dataset = datasets.FashionMNIST(\n",
    "    root=\"data\",\n",
    "    train=False,\n",
    "    download=True,\n",
    "    transform=ToTensor()\n",
    ")"
   ]
  },
  {
   "cell_type": "code",
   "execution_count": 64,
   "metadata": {},
   "outputs": [],
   "source": [
    "train, valid = random_split(train_set,[50000,10000])"
   ]
  },
  {
   "cell_type": "code",
   "execution_count": 69,
   "metadata": {},
   "outputs": [],
   "source": [
    "train_loader_2 = DataLoader(train, batch_size=25, shuffle =  True)\n",
    "valid_loader_2 = DataLoader(valid, batch_size=25, shuffle =  True)\n",
    "test_loader_2 = DataLoader(test_set, batch_size=25, shuffle = True)"
   ]
  },
  {
   "cell_type": "code",
   "execution_count": 66,
   "metadata": {},
   "outputs": [],
   "source": [
    "class NeuralNet(nn.Module):\n",
    "    def __init__(self):\n",
    "        super(NeuralNet,self).__init__()\n",
    "        self.flatten = nn.Flatten()\n",
    "        self.drop = nn.Dropout(0.25)\n",
    "        self.relu = nn.ReLU()\n",
    "        self.fc1 = nn.Linear(28*28, 512)\n",
    "        self.fc2 = nn.Linear(512, 10)\n",
    "\n",
    "    def forward(self, x):\n",
    "        x = self.flatten(x)\n",
    "        x = self.fc1(x)\n",
    "        x = self.drop(x)\n",
    "        x = self.relu(x)\n",
    "        x = self.fc2(x)\n",
    "        return x"
   ]
  },
  {
   "cell_type": "code",
   "execution_count": 67,
   "metadata": {},
   "outputs": [
    {
     "name": "stdout",
     "output_type": "stream",
     "text": [
      "NeuralNet(\n",
      "  (flatten): Flatten(start_dim=1, end_dim=-1)\n",
      "  (drop): Dropout(p=0.25, inplace=False)\n",
      "  (relu): ReLU()\n",
      "  (fc1): Linear(in_features=784, out_features=512, bias=True)\n",
      "  (fc2): Linear(in_features=512, out_features=10, bias=True)\n",
      ")\n"
     ]
    }
   ],
   "source": [
    "NN = NeuralNet()\n",
    "NN.to(device)\n",
    "\n",
    "loss_fn = nn.CrossEntropyLoss()\n",
    "\n",
    "learning_rate = 0.001\n",
    "optimizer = torch.optim.Adam(NN.parameters(), lr=learning_rate)\n",
    "print(NN)"
   ]
  },
  {
   "cell_type": "code",
   "execution_count": 54,
   "metadata": {},
   "outputs": [],
   "source": [
    "train_loader = DataLoader(train, batch_size=25, shuffle =  True)\n",
    "valid_loader = DataLoader(valid, batch_size=25, shuffle =  True)\n",
    "test_loader = DataLoader(test_set, batch_size=25, shuffle = True)"
   ]
  },
  {
   "cell_type": "code",
   "execution_count": 70,
   "metadata": {},
   "outputs": [
    {
     "name": "stdout",
     "output_type": "stream",
     "text": [
      "Epoch 1/50\n",
      "Train Loss: 2.3235158103704454\n",
      "Validation Loss: 2.296636179089546 \t Validation Accuracy: 10.470000267028809\n",
      "Epoch 2/50\n",
      "Train Loss: 2.323695171236992\n",
      "Validation Loss: 2.30658811211586 \t Validation Accuracy: 10.270000457763672\n",
      "Epoch 3/50\n",
      "Train Loss: 2.3060048117637635\n",
      "Validation Loss: 2.308622598052025 \t Validation Accuracy: 10.25\n",
      "Epoch 4/50\n",
      "Train Loss: 2.3081005051136017\n",
      "Validation Loss: 2.306949378848076 \t Validation Accuracy: 10.170000076293945\n",
      "Epoch 5/50\n",
      "Train Loss: 2.304045238614082\n",
      "Validation Loss: 2.309123822450638 \t Validation Accuracy: 9.829999923706055\n",
      "Epoch 6/50\n",
      "Train Loss: 2.3196909494400026\n",
      "Validation Loss: 2.306453902721405 \t Validation Accuracy: 10.119999885559082\n",
      "Epoch 7/50\n",
      "Train Loss: 2.304131432175636\n",
      "Validation Loss: 2.306572613120079 \t Validation Accuracy: 10.149999618530273\n",
      "Epoch 8/50\n",
      "Train Loss: 2.304086493372917\n",
      "Validation Loss: 2.308034098148346 \t Validation Accuracy: 10.170000076293945\n",
      "Epoch 9/50\n",
      "Train Loss: 2.304046382188797\n",
      "Validation Loss: 2.307696261405945 \t Validation Accuracy: 9.9399995803833\n",
      "Epoch 10/50\n",
      "Train Loss: 2.3040445967912673\n",
      "Validation Loss: 2.3072484409809113 \t Validation Accuracy: 9.449999809265137\n",
      "Epoch 11/50\n",
      "Train Loss: 2.3048668872117997\n",
      "Validation Loss: 2.310864116549492 \t Validation Accuracy: 9.739999771118164\n",
      "Epoch 12/50\n",
      "Train Loss: 2.3041855597496035\n",
      "Validation Loss: 2.306358331441879 \t Validation Accuracy: 10.149999618530273\n",
      "Epoch 13/50\n",
      "Train Loss: 2.3039557846784593\n",
      "Validation Loss: 2.306804448366165 \t Validation Accuracy: 10.140000343322754\n",
      "Epoch 14/50\n",
      "Train Loss: 2.3040206563472747\n",
      "Validation Loss: 2.3070667105913163 \t Validation Accuracy: 9.739999771118164\n",
      "Epoch 15/50\n",
      "Train Loss: 2.30407864677906\n",
      "Validation Loss: 2.3066450345516203 \t Validation Accuracy: 10.119999885559082\n",
      "Epoch 16/50\n",
      "Train Loss: 2.3042435363531113\n",
      "Validation Loss: 2.3083409494161606 \t Validation Accuracy: 10.149999618530273\n",
      "Epoch 17/50\n",
      "Train Loss: 2.3040344096422194\n",
      "Validation Loss: 2.306854712963104 \t Validation Accuracy: 10.25\n",
      "Epoch 18/50\n",
      "Train Loss: 2.304116828918457\n",
      "Validation Loss: 2.307108863592148 \t Validation Accuracy: 10.149999618530273\n",
      "Epoch 19/50\n",
      "Train Loss: 2.304230822086334\n",
      "Validation Loss: 2.3078789389133454 \t Validation Accuracy: 10.199999809265137\n",
      "Epoch 20/50\n",
      "Train Loss: 2.3038026072978974\n",
      "Validation Loss: 2.306543464064598 \t Validation Accuracy: 10.149999618530273\n",
      "Epoch 21/50\n",
      "Train Loss: 2.304129167675972\n",
      "Validation Loss: 2.3070903146266937 \t Validation Accuracy: 10.170000076293945\n",
      "Epoch 22/50\n",
      "Train Loss: 2.304004123687744\n",
      "Validation Loss: 2.3073292249441146 \t Validation Accuracy: 10.119999885559082\n",
      "Epoch 23/50\n",
      "Train Loss: 2.3038993167877195\n",
      "Validation Loss: 2.30977463722229 \t Validation Accuracy: 9.449999809265137\n",
      "Epoch 24/50\n",
      "Train Loss: 2.304079133272171\n",
      "Validation Loss: 2.306526567339897 \t Validation Accuracy: 9.739999771118164\n",
      "Epoch 25/50\n",
      "Train Loss: 2.3041489498615264\n",
      "Validation Loss: 2.307729685306549 \t Validation Accuracy: 10.25\n",
      "Epoch 26/50\n",
      "Train Loss: 2.3039403117895128\n",
      "Validation Loss: 2.3081015866994856 \t Validation Accuracy: 10.140000343322754\n",
      "Epoch 27/50\n",
      "Train Loss: 2.30393409883976\n",
      "Validation Loss: 2.3080389046669008 \t Validation Accuracy: 9.9399995803833\n",
      "Epoch 28/50\n",
      "Train Loss: 2.304219825744629\n",
      "Validation Loss: 2.3071097230911253 \t Validation Accuracy: 9.739999771118164\n",
      "Epoch 29/50\n",
      "Train Loss: 2.3040272405147553\n",
      "Validation Loss: 2.3085918712615965 \t Validation Accuracy: 10.140000343322754\n",
      "Epoch 30/50\n",
      "Train Loss: 2.3038077123165133\n",
      "Validation Loss: 2.306796517968178 \t Validation Accuracy: 10.170000076293945\n",
      "Epoch 31/50\n",
      "Train Loss: 2.304171383976936\n",
      "Validation Loss: 2.308028829097748 \t Validation Accuracy: 9.739999771118164\n",
      "Epoch 32/50\n",
      "Train Loss: 2.3039774079322815\n",
      "Validation Loss: 2.306581711769104 \t Validation Accuracy: 10.170000076293945\n",
      "Epoch 33/50\n",
      "Train Loss: 2.3040803418159483\n",
      "Validation Loss: 2.3077297937870025 \t Validation Accuracy: 10.170000076293945\n",
      "Epoch 34/50\n",
      "Train Loss: 2.304088522315025\n",
      "Validation Loss: 2.308288104534149 \t Validation Accuracy: 9.9399995803833\n",
      "Epoch 35/50\n",
      "Train Loss: 2.3041626517772675\n",
      "Validation Loss: 2.306943576335907 \t Validation Accuracy: 10.149999618530273\n",
      "Epoch 36/50\n",
      "Train Loss: 2.304030755996704\n",
      "Validation Loss: 2.3078763860464098 \t Validation Accuracy: 9.739999771118164\n",
      "Epoch 37/50\n",
      "Train Loss: 2.304184273958206\n",
      "Validation Loss: 2.3078900814056396 \t Validation Accuracy: 9.449999809265137\n",
      "Epoch 38/50\n",
      "Train Loss: 2.303865004301071\n",
      "Validation Loss: 2.30686984539032 \t Validation Accuracy: 10.199999809265137\n",
      "Epoch 39/50\n",
      "Train Loss: 2.304074591636658\n",
      "Validation Loss: 2.308305429816246 \t Validation Accuracy: 9.9399995803833\n",
      "Epoch 40/50\n",
      "Train Loss: 2.3040704723596575\n",
      "Validation Loss: 2.30762089073658 \t Validation Accuracy: 10.25\n",
      "Epoch 41/50\n",
      "Train Loss: 2.3039604672193525\n",
      "Validation Loss: 2.3069722735881806 \t Validation Accuracy: 10.25\n",
      "Epoch 42/50\n",
      "Train Loss: 2.304144064426422\n",
      "Validation Loss: 2.3067052644491195 \t Validation Accuracy: 10.140000343322754\n",
      "Epoch 43/50\n"
     ]
    },
    {
     "ename": "KeyboardInterrupt",
     "evalue": "",
     "output_type": "error",
     "traceback": [
      "\u001b[0;31m---------------------------------------------------------------------------\u001b[0m",
      "\u001b[0;31mKeyboardInterrupt\u001b[0m                         Traceback (most recent call last)",
      "\u001b[0;32m/tmp/ipykernel_12256/1019995717.py\u001b[0m in \u001b[0;36m<module>\u001b[0;34m\u001b[0m\n\u001b[1;32m      3\u001b[0m \u001b[0;32mfor\u001b[0m \u001b[0me\u001b[0m \u001b[0;32min\u001b[0m \u001b[0mrange\u001b[0m\u001b[0;34m(\u001b[0m\u001b[0;36m1\u001b[0m\u001b[0;34m,\u001b[0m \u001b[0mepochs\u001b[0m\u001b[0;34m+\u001b[0m\u001b[0;36m1\u001b[0m\u001b[0;34m)\u001b[0m\u001b[0;34m:\u001b[0m\u001b[0;34m\u001b[0m\u001b[0;34m\u001b[0m\u001b[0m\n\u001b[1;32m      4\u001b[0m     \u001b[0mprint\u001b[0m\u001b[0;34m(\u001b[0m\u001b[0;34mf'Epoch {e}/{epochs}'\u001b[0m\u001b[0;34m)\u001b[0m\u001b[0;34m\u001b[0m\u001b[0;34m\u001b[0m\u001b[0m\n\u001b[0;32m----> 5\u001b[0;31m     \u001b[0mtraining\u001b[0m\u001b[0;34m(\u001b[0m\u001b[0mtrain_loader_2\u001b[0m\u001b[0;34m,\u001b[0m \u001b[0mNN\u001b[0m\u001b[0;34m)\u001b[0m\u001b[0;34m\u001b[0m\u001b[0;34m\u001b[0m\u001b[0m\n\u001b[0m\u001b[1;32m      6\u001b[0m     \u001b[0mvalidate\u001b[0m\u001b[0;34m(\u001b[0m\u001b[0mvalid_loader_2\u001b[0m\u001b[0;34m,\u001b[0m \u001b[0mNN\u001b[0m\u001b[0;34m)\u001b[0m\u001b[0;34m\u001b[0m\u001b[0;34m\u001b[0m\u001b[0m\n",
      "\u001b[0;32m/tmp/ipykernel_12256/245430884.py\u001b[0m in \u001b[0;36mtraining\u001b[0;34m(dataloader, model)\u001b[0m\n\u001b[1;32m     18\u001b[0m         \u001b[0mloss\u001b[0m\u001b[0;34m.\u001b[0m\u001b[0mbackward\u001b[0m\u001b[0;34m(\u001b[0m\u001b[0;34m)\u001b[0m\u001b[0;34m\u001b[0m\u001b[0;34m\u001b[0m\u001b[0m\n\u001b[1;32m     19\u001b[0m \u001b[0;34m\u001b[0m\u001b[0m\n\u001b[0;32m---> 20\u001b[0;31m         \u001b[0moptimizer\u001b[0m\u001b[0;34m.\u001b[0m\u001b[0mstep\u001b[0m\u001b[0;34m(\u001b[0m\u001b[0;34m)\u001b[0m\u001b[0;34m\u001b[0m\u001b[0;34m\u001b[0m\u001b[0m\n\u001b[0m\u001b[1;32m     21\u001b[0m \u001b[0;34m\u001b[0m\u001b[0m\n\u001b[1;32m     22\u001b[0m         \u001b[0mtrain\u001b[0m \u001b[0;34m+=\u001b[0m \u001b[0mloss\u001b[0m\u001b[0;34m.\u001b[0m\u001b[0mitem\u001b[0m\u001b[0;34m(\u001b[0m\u001b[0;34m)\u001b[0m\u001b[0;34m\u001b[0m\u001b[0;34m\u001b[0m\u001b[0m\n",
      "\u001b[0;32m~/miniconda3/envs/env-pytorch/lib/python3.9/site-packages/torch/optim/optimizer.py\u001b[0m in \u001b[0;36mwrapper\u001b[0;34m(*args, **kwargs)\u001b[0m\n\u001b[1;32m     86\u001b[0m                 \u001b[0mprofile_name\u001b[0m \u001b[0;34m=\u001b[0m \u001b[0;34m\"Optimizer.step#{}.step\"\u001b[0m\u001b[0;34m.\u001b[0m\u001b[0mformat\u001b[0m\u001b[0;34m(\u001b[0m\u001b[0mobj\u001b[0m\u001b[0;34m.\u001b[0m\u001b[0m__class__\u001b[0m\u001b[0;34m.\u001b[0m\u001b[0m__name__\u001b[0m\u001b[0;34m)\u001b[0m\u001b[0;34m\u001b[0m\u001b[0;34m\u001b[0m\u001b[0m\n\u001b[1;32m     87\u001b[0m                 \u001b[0;32mwith\u001b[0m \u001b[0mtorch\u001b[0m\u001b[0;34m.\u001b[0m\u001b[0mautograd\u001b[0m\u001b[0;34m.\u001b[0m\u001b[0mprofiler\u001b[0m\u001b[0;34m.\u001b[0m\u001b[0mrecord_function\u001b[0m\u001b[0;34m(\u001b[0m\u001b[0mprofile_name\u001b[0m\u001b[0;34m)\u001b[0m\u001b[0;34m:\u001b[0m\u001b[0;34m\u001b[0m\u001b[0;34m\u001b[0m\u001b[0m\n\u001b[0;32m---> 88\u001b[0;31m                     \u001b[0;32mreturn\u001b[0m \u001b[0mfunc\u001b[0m\u001b[0;34m(\u001b[0m\u001b[0;34m*\u001b[0m\u001b[0margs\u001b[0m\u001b[0;34m,\u001b[0m \u001b[0;34m**\u001b[0m\u001b[0mkwargs\u001b[0m\u001b[0;34m)\u001b[0m\u001b[0;34m\u001b[0m\u001b[0;34m\u001b[0m\u001b[0m\n\u001b[0m\u001b[1;32m     89\u001b[0m             \u001b[0;32mreturn\u001b[0m \u001b[0mwrapper\u001b[0m\u001b[0;34m\u001b[0m\u001b[0;34m\u001b[0m\u001b[0m\n\u001b[1;32m     90\u001b[0m \u001b[0;34m\u001b[0m\u001b[0m\n",
      "\u001b[0;32m~/miniconda3/envs/env-pytorch/lib/python3.9/site-packages/torch/autograd/grad_mode.py\u001b[0m in \u001b[0;36mdecorate_context\u001b[0;34m(*args, **kwargs)\u001b[0m\n\u001b[1;32m     26\u001b[0m         \u001b[0;32mdef\u001b[0m \u001b[0mdecorate_context\u001b[0m\u001b[0;34m(\u001b[0m\u001b[0;34m*\u001b[0m\u001b[0margs\u001b[0m\u001b[0;34m,\u001b[0m \u001b[0;34m**\u001b[0m\u001b[0mkwargs\u001b[0m\u001b[0;34m)\u001b[0m\u001b[0;34m:\u001b[0m\u001b[0;34m\u001b[0m\u001b[0;34m\u001b[0m\u001b[0m\n\u001b[1;32m     27\u001b[0m             \u001b[0;32mwith\u001b[0m \u001b[0mself\u001b[0m\u001b[0;34m.\u001b[0m\u001b[0m__class__\u001b[0m\u001b[0;34m(\u001b[0m\u001b[0;34m)\u001b[0m\u001b[0;34m:\u001b[0m\u001b[0;34m\u001b[0m\u001b[0;34m\u001b[0m\u001b[0m\n\u001b[0;32m---> 28\u001b[0;31m                 \u001b[0;32mreturn\u001b[0m \u001b[0mfunc\u001b[0m\u001b[0;34m(\u001b[0m\u001b[0;34m*\u001b[0m\u001b[0margs\u001b[0m\u001b[0;34m,\u001b[0m \u001b[0;34m**\u001b[0m\u001b[0mkwargs\u001b[0m\u001b[0;34m)\u001b[0m\u001b[0;34m\u001b[0m\u001b[0;34m\u001b[0m\u001b[0m\n\u001b[0m\u001b[1;32m     29\u001b[0m         \u001b[0;32mreturn\u001b[0m \u001b[0mcast\u001b[0m\u001b[0;34m(\u001b[0m\u001b[0mF\u001b[0m\u001b[0;34m,\u001b[0m \u001b[0mdecorate_context\u001b[0m\u001b[0;34m)\u001b[0m\u001b[0;34m\u001b[0m\u001b[0;34m\u001b[0m\u001b[0m\n\u001b[1;32m     30\u001b[0m \u001b[0;34m\u001b[0m\u001b[0m\n",
      "\u001b[0;32m~/miniconda3/envs/env-pytorch/lib/python3.9/site-packages/torch/optim/adam.py\u001b[0m in \u001b[0;36mstep\u001b[0;34m(self, closure)\u001b[0m\n\u001b[1;32m    131\u001b[0m                     \u001b[0mstate_steps\u001b[0m\u001b[0;34m.\u001b[0m\u001b[0mappend\u001b[0m\u001b[0;34m(\u001b[0m\u001b[0mstate\u001b[0m\u001b[0;34m[\u001b[0m\u001b[0;34m'step'\u001b[0m\u001b[0;34m]\u001b[0m\u001b[0;34m)\u001b[0m\u001b[0;34m\u001b[0m\u001b[0;34m\u001b[0m\u001b[0m\n\u001b[1;32m    132\u001b[0m \u001b[0;34m\u001b[0m\u001b[0m\n\u001b[0;32m--> 133\u001b[0;31m             F.adam(params_with_grad,\n\u001b[0m\u001b[1;32m    134\u001b[0m                    \u001b[0mgrads\u001b[0m\u001b[0;34m,\u001b[0m\u001b[0;34m\u001b[0m\u001b[0;34m\u001b[0m\u001b[0m\n\u001b[1;32m    135\u001b[0m                    \u001b[0mexp_avgs\u001b[0m\u001b[0;34m,\u001b[0m\u001b[0;34m\u001b[0m\u001b[0;34m\u001b[0m\u001b[0m\n",
      "\u001b[0;32m~/miniconda3/envs/env-pytorch/lib/python3.9/site-packages/torch/optim/_functional.py\u001b[0m in \u001b[0;36madam\u001b[0;34m(params, grads, exp_avgs, exp_avg_sqs, max_exp_avg_sqs, state_steps, amsgrad, beta1, beta2, lr, weight_decay, eps)\u001b[0m\n\u001b[1;32m     85\u001b[0m         \u001b[0;31m# Decay the first and second moment running average coefficient\u001b[0m\u001b[0;34m\u001b[0m\u001b[0;34m\u001b[0m\u001b[0m\n\u001b[1;32m     86\u001b[0m         \u001b[0mexp_avg\u001b[0m\u001b[0;34m.\u001b[0m\u001b[0mmul_\u001b[0m\u001b[0;34m(\u001b[0m\u001b[0mbeta1\u001b[0m\u001b[0;34m)\u001b[0m\u001b[0;34m.\u001b[0m\u001b[0madd_\u001b[0m\u001b[0;34m(\u001b[0m\u001b[0mgrad\u001b[0m\u001b[0;34m,\u001b[0m \u001b[0malpha\u001b[0m\u001b[0;34m=\u001b[0m\u001b[0;36m1\u001b[0m \u001b[0;34m-\u001b[0m \u001b[0mbeta1\u001b[0m\u001b[0;34m)\u001b[0m\u001b[0;34m\u001b[0m\u001b[0;34m\u001b[0m\u001b[0m\n\u001b[0;32m---> 87\u001b[0;31m         \u001b[0mexp_avg_sq\u001b[0m\u001b[0;34m.\u001b[0m\u001b[0mmul_\u001b[0m\u001b[0;34m(\u001b[0m\u001b[0mbeta2\u001b[0m\u001b[0;34m)\u001b[0m\u001b[0;34m.\u001b[0m\u001b[0maddcmul_\u001b[0m\u001b[0;34m(\u001b[0m\u001b[0mgrad\u001b[0m\u001b[0;34m,\u001b[0m \u001b[0mgrad\u001b[0m\u001b[0;34m.\u001b[0m\u001b[0mconj\u001b[0m\u001b[0;34m(\u001b[0m\u001b[0;34m)\u001b[0m\u001b[0;34m,\u001b[0m \u001b[0mvalue\u001b[0m\u001b[0;34m=\u001b[0m\u001b[0;36m1\u001b[0m \u001b[0;34m-\u001b[0m \u001b[0mbeta2\u001b[0m\u001b[0;34m)\u001b[0m\u001b[0;34m\u001b[0m\u001b[0;34m\u001b[0m\u001b[0m\n\u001b[0m\u001b[1;32m     88\u001b[0m         \u001b[0;32mif\u001b[0m \u001b[0mamsgrad\u001b[0m\u001b[0;34m:\u001b[0m\u001b[0;34m\u001b[0m\u001b[0;34m\u001b[0m\u001b[0m\n\u001b[1;32m     89\u001b[0m             \u001b[0;31m# Maintains the maximum of all 2nd moment running avg. till now\u001b[0m\u001b[0;34m\u001b[0m\u001b[0;34m\u001b[0m\u001b[0m\n",
      "\u001b[0;31mKeyboardInterrupt\u001b[0m: "
     ]
    }
   ],
   "source": [
    "epochs = 50\n",
    "\n",
    "for e in range(1, epochs+1):\n",
    "    print(f'Epoch {e}/{epochs}')\n",
    "    training(train_loader_2, NN)\n",
    "    validate(valid_loader_2, NN)"
   ]
  }
 ],
 "metadata": {
  "accelerator": "GPU",
  "colab": {
   "collapsed_sections": [],
   "name": "fashion_MNIST.ipynb",
   "provenance": [],
   "version": "0.3.2"
  },
  "kernelspec": {
   "display_name": "Python 3 (ipykernel)",
   "language": "python",
   "name": "python3"
  },
  "language_info": {
   "codemirror_mode": {
    "name": "ipython",
    "version": 3
   },
   "file_extension": ".py",
   "mimetype": "text/x-python",
   "name": "python",
   "nbconvert_exporter": "python",
   "pygments_lexer": "ipython3",
   "version": "3.9.7"
  }
 },
 "nbformat": 4,
 "nbformat_minor": 4
}
