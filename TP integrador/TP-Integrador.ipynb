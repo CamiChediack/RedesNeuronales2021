{
 "cells": [
  {
   "cell_type": "markdown",
   "metadata": {
    "colab_type": "text",
    "id": "1rm65OztSCpF"
   },
   "source": [
    "## Trabajo práctico integrador "
   ]
  },
  {
   "cell_type": "markdown",
   "metadata": {},
   "source": [
    "Se importan las librerías importantes que se van a utilizar"
   ]
  },
  {
   "cell_type": "code",
   "execution_count": 1,
   "metadata": {
    "colab": {},
    "colab_type": "code",
    "execution": {
     "iopub.execute_input": "2022-08-03T22:28:27.137983Z",
     "iopub.status.busy": "2022-08-03T22:28:27.137214Z",
     "iopub.status.idle": "2022-08-03T22:28:28.944846Z",
     "shell.execute_reply": "2022-08-03T22:28:28.941746Z",
     "shell.execute_reply.started": "2022-08-03T22:28:27.137893Z"
    },
    "id": "-1_8VZgpEtea"
   },
   "outputs": [],
   "source": [
    "import numpy as np\n",
    "import pandas as pd\n",
    "import matplotlib.pyplot as plt\n",
    "\n",
    "import torch\n",
    "import torch.nn as nn\n",
    "from torch.autograd import Variable\n",
    "\n",
    "import torchvision\n",
    "import torchvision.transforms as transforms\n",
    "from torchvision.transforms import ToTensor, Lambda, Compose\n",
    "from torchvision import datasets\n",
    "from torch.utils.data import Dataset, DataLoader, random_split\n",
    "from sklearn.metrics import confusion_matrix"
   ]
  },
  {
   "cell_type": "code",
   "execution_count": 3,
   "metadata": {
    "colab": {},
    "colab_type": "code",
    "id": "q6btjJ9YTXXw"
   },
   "outputs": [],
   "source": [
    "# Si es GPU esta disponible que lo use sino que use el CPU\n",
    "device = torch.device(\"cuda:0\" if torch.cuda.is_available() else \"cpu\") "
   ]
  },
  {
   "cell_type": "code",
   "execution_count": 4,
   "metadata": {
    "colab": {
     "base_uri": "https://localhost:8080/",
     "height": 413
    },
    "colab_type": "code",
    "id": "PV2g1_8qUDvA",
    "outputId": "b429a123-7574-413d-d15a-92f0481e6753"
   },
   "outputs": [],
   "source": [
    "# Descargamos las bases de datos de Fashion MNIST que se van a utilizar para entrenar, validar y testear la red\n",
    "train_dataset_all = datasets.FashionMNIST(\n",
    "    root=\"data\",\n",
    "    train=True,\n",
    "    download=True,\n",
    "    transform=ToTensor()\n",
    ")\n",
    "\n",
    "test_dataset = datasets.FashionMNIST(\n",
    "    root=\"data\",\n",
    "    train=False,\n",
    "    download=True,\n",
    "    transform=ToTensor()\n",
    ")"
   ]
  },
  {
   "cell_type": "code",
   "execution_count": 5,
   "metadata": {},
   "outputs": [],
   "source": [
    "#Se separa el conjunto de entrenamiento en entrenamiento y validación. \n",
    "train, valid = random_split(train_dataset_all,[50000,10000])"
   ]
  },
  {
   "cell_type": "code",
   "execution_count": 6,
   "metadata": {},
   "outputs": [],
   "source": [
    "# Se cargan los datos\n",
    "train_loader = DataLoader(train, batch_size=100, shuffle =  True)\n",
    "valid_loader = DataLoader(valid, batch_size=100, shuffle =  True)\n",
    "test_loader = DataLoader(test_dataset, batch_size=100, shuffle = True)"
   ]
  },
  {
   "cell_type": "code",
   "execution_count": 7,
   "metadata": {
    "colab": {
     "base_uri": "https://localhost:8080/",
     "height": 54
    },
    "colab_type": "code",
    "id": "sgpYsgh0PY09",
    "outputId": "4d00bf1d-fb85-4e2a-bb21-067e75360637"
   },
   "outputs": [
    {
     "name": "stdout",
     "output_type": "stream",
     "text": [
      "<class 'torch.Tensor'> <class 'torch.Tensor'>\n",
      "torch.Size([100, 1, 28, 28]) torch.Size([100])\n"
     ]
    }
   ],
   "source": [
    "# Dimensiones de los tensores\n",
    "batch = next(iter(train_loader))\n",
    "images, labels = batch\n",
    "print(type(images), type(labels))\n",
    "print(images.shape, labels.shape)"
   ]
  },
  {
   "cell_type": "code",
   "execution_count": 8,
   "metadata": {},
   "outputs": [
    {
     "data": {
      "image/png": "[encoded data removed]",
      "text/plain": [
       "<Figure size 576x576 with 9 Axes>"
      ]
     },
     "metadata": {
      "needs_background": "light"
     },
     "output_type": "display_data"
    }
   ],
   "source": [
    "# Etiquetas de las imágenes y una muestra de las mismas\n",
    "labels_map = {\n",
    "    0: \"T-Shirt\",\n",
    "    1: \"Trouser\",\n",
    "    2: \"Pullover\",\n",
    "    3: \"Dress\",\n",
    "    4: \"Coat\",\n",
    "    5: \"Sandal\",\n",
    "    6: \"Shirt\",\n",
    "    7: \"Sneaker\",\n",
    "    8: \"Bag\",\n",
    "    9: \"Ankle Boot\",\n",
    "}\n",
    "figure = plt.figure(figsize=(8, 8))\n",
    "cols, rows = 3, 3\n",
    "for i in range(1, cols * rows + 1):\n",
    "    sample_idx = torch.randint(len(train_dataset_all), size=(1,)).item()\n",
    "    img, label = train_dataset_all[sample_idx]\n",
    "    figure.add_subplot(rows, cols, i)\n",
    "    plt.title(labels_map[label])\n",
    "    plt.axis(\"off\")\n",
    "    plt.imshow(img.squeeze(), cmap=\"gray\")\n",
    "plt.savefig('fashion-mnist.pdf')\n",
    "plt.show()"
   ]
  },
  {
   "cell_type": "code",
   "execution_count": 24,
   "metadata": {
    "colab": {},
    "colab_type": "code",
    "id": "hyCH0Q4hSgFB"
   },
   "outputs": [],
   "source": [
    "# Arquitectura de la red convolucional\n",
    "class FashionCNN(nn.Module):\n",
    "    \n",
    "    def __init__(self):\n",
    "        super(FashionCNN, self).__init__()\n",
    "        \n",
    "        self.layer1 = nn.Sequential(\n",
    "            nn.Conv2d(in_channels=1, out_channels=64, kernel_size=3, padding=1),\n",
    "            nn.BatchNorm2d(64),\n",
    "            nn.ReLU(),\n",
    "            nn.MaxPool2d(kernel_size=2, stride=2)\n",
    "        )\n",
    "        \n",
    "        self.layer2 = nn.Sequential(\n",
    "            nn.Conv2d(in_channels=64, out_channels=128, kernel_size=3),\n",
    "            nn.BatchNorm2d(128),\n",
    "            nn.ReLU(),\n",
    "            nn.MaxPool2d(2)\n",
    "        )\n",
    "        self.flatten = nn.Flatten()\n",
    "        self.fc1 = nn.Linear(in_features=128*6*6, out_features=600)\n",
    "        self.drop = nn.Dropout2d(0.30)\n",
    "        self.fc2 = nn.Linear(in_features=600, out_features=100)\n",
    "        self.fc3 = nn.Linear(in_features=100, out_features=10)\n",
    "        self.soft = nn.Softmax(dim=1)\n",
    "        \n",
    "    def forward(self, x):\n",
    "        out = self.layer1(x)\n",
    "        out = self.layer2(out)\n",
    "        out = self.flatten(out)\n",
    "        out = self.fc1(out)\n",
    "        out = self.drop(out)\n",
    "        out = self.fc2(out)\n",
    "        out = self.fc3(out)\n",
    "        out = self.soft(out)\n",
    "        \n",
    "        return out\n"
   ]
  },
  {
   "cell_type": "code",
   "execution_count": 25,
   "metadata": {
    "colab": {
     "base_uri": "https://localhost:8080/",
     "height": 345
    },
    "colab_type": "code",
    "id": "NILDHzNgQ1Gt",
    "outputId": "d16327ae-e7d2-4c46-bffe-e9724272c51d"
   },
   "outputs": [
    {
     "name": "stdout",
     "output_type": "stream",
     "text": [
      "FashionCNN(\n",
      "  (layer1): Sequential(\n",
      "    (0): Conv2d(1, 64, kernel_size=(3, 3), stride=(1, 1), padding=(1, 1))\n",
      "    (1): BatchNorm2d(64, eps=1e-05, momentum=0.1, affine=True, track_running_stats=True)\n",
      "    (2): ReLU()\n",
      "    (3): MaxPool2d(kernel_size=2, stride=2, padding=0, dilation=1, ceil_mode=False)\n",
      "  )\n",
      "  (layer2): Sequential(\n",
      "    (0): Conv2d(64, 128, kernel_size=(3, 3), stride=(1, 1))\n",
      "    (1): BatchNorm2d(128, eps=1e-05, momentum=0.1, affine=True, track_running_stats=True)\n",
      "    (2): ReLU()\n",
      "    (3): MaxPool2d(kernel_size=2, stride=2, padding=0, dilation=1, ceil_mode=False)\n",
      "  )\n",
      "  (flatten): Flatten(start_dim=1, end_dim=-1)\n",
      "  (fc1): Linear(in_features=4608, out_features=600, bias=True)\n",
      "  (drop): Dropout2d(p=0.3, inplace=False)\n",
      "  (fc2): Linear(in_features=600, out_features=100, bias=True)\n",
      "  (fc3): Linear(in_features=100, out_features=10, bias=True)\n",
      "  (soft): Softmax(dim=1)\n",
      ")\n"
     ]
    }
   ],
   "source": [
    "FCNN = FashionCNN()\n",
    "FCNN.to(device)\n",
    "\n",
    "loss_fn = nn.CrossEntropyLoss()\n",
    "\n",
    "learning_rate = 0.001\n",
    "optimizer = torch.optim.Adam(FCNN.parameters(), lr=learning_rate)\n",
    "print(FCNN)"
   ]
  },
  {
   "cell_type": "markdown",
   "metadata": {
    "colab_type": "text",
    "id": "im58ZlvMvkty"
   },
   "source": [
    "## Funciones de entrenamiento y validación"
   ]
  },
  {
   "cell_type": "code",
   "execution_count": 26,
   "metadata": {},
   "outputs": [],
   "source": [
    "def training(dataloader, model):\n",
    "    train = 0.0\n",
    "    model.train() \n",
    "    for batch, (image,label) in enumerate(dataloader): \n",
    "        image = image.to(device)\n",
    "        label = label.to(device)\n",
    "        \n",
    "        pred = model(image)\n",
    "    \n",
    "        loss = loss_fn(pred,label)\n",
    "    \n",
    "        optimizer.zero_grad()\n",
    "    \n",
    "        loss.backward()\n",
    "    \n",
    "        optimizer.step()\n",
    "    \n",
    "        train += loss.item()\n",
    "        \n",
    "    train /= len(dataloader)\n",
    "    \n",
    "    return train\n",
    "\n",
    "def validate(dataloader, model):\n",
    "    model.eval() \n",
    "    valid = 0.0\n",
    "    correct = 0.0\n",
    "    total = 0.0\n",
    "    with torch.no_grad():\n",
    "        for image, label in dataloader:\n",
    "            image = image.to(device)\n",
    "            label = label.to(device)\n",
    "            \n",
    "            target = model(image)\n",
    "        \n",
    "            loss = loss_fn(target,label)\n",
    "            \n",
    "            valid += loss.item() \n",
    "            \n",
    "            predictions = torch.max(target, 1)[1].to(device)\n",
    "            \n",
    "            correct += (predictions == label).sum()\n",
    "            \n",
    "            total += len(label)\n",
    "            \n",
    "    valid /= len(dataloader)\n",
    "    \n",
    "    accuracy = correct*100/total\n",
    "    \n",
    "    return valid, accuracy"
   ]
  },
  {
   "cell_type": "code",
   "execution_count": null,
   "metadata": {},
   "outputs": [
    {
     "name": "stdout",
     "output_type": "stream",
     "text": [
      "Epoch 1/10, Train Loss: 1.9600207023620606, Valid Loss: 1.927087540626526, Valid Accuracy: 53.369998931884766\n",
      "Epoch 2/10, Train Loss: 1.9758291890621185, Valid Loss: 1.915426584482193, Valid Accuracy: 54.56999969482422\n",
      "Epoch 3/10, Train Loss: 1.917182055234909, Valid Loss: 1.911983038187027, Valid Accuracy: 54.91999816894531\n",
      "Epoch 4/10, Train Loss: 1.914458379983902, Valid Loss: 1.9133020520210267, Valid Accuracy: 54.779998779296875\n"
     ]
    }
   ],
   "source": [
    "epochs = 10\n",
    "train_loss = []\n",
    "valid_loss = []\n",
    "valid_accu = []\n",
    "\n",
    "for e in range(1, epochs+1):\n",
    "    training_loss = training(train_loader, FCNN)\n",
    "    validation_loss, validation_accu = validate(valid_loader, FCNN)\n",
    "    print(f'Epoch {e}/{epochs}, Train Loss: {training_loss}, Valid Loss: {validation_loss}, Valid Accuracy: {validation_accu}')\n",
    "    train_loss.append(training_loss)\n",
    "    valid_loss.append(validation_loss)\n",
    "    valid_accu.append(validation_accu)"
   ]
  },
  {
   "cell_type": "code",
   "execution_count": 13,
   "metadata": {
    "colab": {
     "base_uri": "https://localhost:8080/",
     "height": 295
    },
    "colab_type": "code",
    "id": "4s4cGX4Hanyz",
    "outputId": "4f19caa4-327f-4cca-bd9f-726774b9ddfd"
   },
   "outputs": [
    {
     "data": {
      "image/png": "[encoded data removed]",
      "text/plain": [
       "<Figure size 432x288 with 1 Axes>"
      ]
     },
     "metadata": {
      "needs_background": "light"
     },
     "output_type": "display_data"
    }
   ],
   "source": [
    "# Gráfico de la función de pérdida de entrenamiento y la función de pérdida de validación\n",
    "plt.plot([i for i in range(1, 11)],train_loss)\n",
    "plt.plot([i for i in range(1, 11)],valid_loss, c ='cyan')\n",
    "plt.xlabel(\"No. of Epoch\")\n",
    "plt.ylabel(\"Loss\")\n",
    "plt.savefig('train_valid_loss_conv.pdf')\n",
    "plt.show()"
   ]
  },
  {
   "cell_type": "code",
   "execution_count": 14,
   "metadata": {},
   "outputs": [
    {
     "data": {
      "image/png": "[encoded data removed]",
      "text/plain": [
       "<Figure size 432x288 with 1 Axes>"
      ]
     },
     "metadata": {
      "needs_background": "light"
     },
     "output_type": "display_data"
    }
   ],
   "source": [
    "# Gráfico de la función de precisión del modelo sobre el conjunto de validación \n",
    "plt.plot([i for i in range(1, 11)],valid_accu, c = 'green')\n",
    "plt.xlabel(\"No. of Epoch\")\n",
    "plt.ylabel(\"Loss\")\n",
    "plt.savefig('valid_accu_conv.pdf')\n",
    "plt.show()"
   ]
  },
  {
   "cell_type": "markdown",
   "metadata": {
    "colab_type": "text",
    "id": "mZTkzUKn0vq3"
   },
   "source": [
    "### Precisión del modelo sobre cada una de las etiquetas de la base de datos "
   ]
  },
  {
   "cell_type": "code",
   "execution_count": 15,
   "metadata": {
    "colab": {
     "base_uri": "https://localhost:8080/",
     "height": 199
    },
    "colab_type": "code",
    "id": "Mq9_qes8Qg6h",
    "outputId": "fd7e3194-d5ab-4c3d-8693-ced0369df983"
   },
   "outputs": [
    {
     "name": "stdout",
     "output_type": "stream",
     "text": [
      "Accuracy of T-Shirt: 78.60%\n",
      "Accuracy of Trouser: 98.30%\n",
      "Accuracy of Pullover: 78.80%\n",
      "Accuracy of Dress: 87.80%\n",
      "Accuracy of Coat: 87.70%\n",
      "Accuracy of Sandal: 98.20%\n",
      "Accuracy of Shirt: 78.80%\n",
      "Accuracy of Sneaker: 96.10%\n",
      "Accuracy of Bag: 96.80%\n",
      "Accuracy of Ankle Boot: 96.70%\n"
     ]
    }
   ],
   "source": [
    "class_correct = [0. for _ in range(10)]\n",
    "total_correct = [0. for _ in range(10)]\n",
    "labels_list = []\n",
    "prediction_list = []\n",
    "with torch.no_grad():\n",
    "    for images, labels in test_loader: #Esta vez se prueba la precisión del modelo sobre el conjunto de testeo\n",
    "        images, labels = images.to(device), labels.to(device)\n",
    "        labels_list.append(labels)\n",
    "        \n",
    "        test = images\n",
    "        outputs = FCNN(test)\n",
    "        predicted = torch.max(outputs, 1)[1] #Para obtener el número de etiqueta que predijo se utiliza torch.max \n",
    "        prediction_list.append(predicted)\n",
    "        c = (predicted == labels).squeeze() #Vemos si es igual al label, es decir, si la predicción es correcta\n",
    "        \n",
    "        for i in range(100):\n",
    "            label = labels[i]\n",
    "            class_correct[label] += c[i].item()\n",
    "            total_correct[label] += 1\n",
    " #Vemos que tan bien predijo cada etiqueta           \n",
    "label_list = list(labels_map.values()) #Transforma el diccionario en una lista    \n",
    "for i in range(10):\n",
    "    print(\"Accuracy of {}: {:.2f}%\".format(label_list[i], class_correct[i] * 100 / total_correct[i]))"
   ]
  },
  {
   "cell_type": "code",
   "execution_count": 16,
   "metadata": {},
   "outputs": [],
   "source": [
    "# Se necesitan algunas transformaciones de los tensores a listas para poder hacer el classification report\n",
    "from itertools import chain \n",
    "\n",
    "prediction_l = [prediction_list[i].tolist() for i in range(len(prediction_list))]\n",
    "labels_l = [labels_list[i].tolist() for i in range(len(labels_list))]\n",
    "prediction_l = list(chain.from_iterable(prediction_l))\n",
    "labels_l = list(chain.from_iterable(labels_l))"
   ]
  },
  {
   "cell_type": "code",
   "execution_count": 51,
   "metadata": {
    "scrolled": true
   },
   "outputs": [
    {
     "data": {
      "text/html": [
       "<div>\n",
       "<style scoped>\n",
       "    .dataframe tbody tr th:only-of-type {\n",
       "        vertical-align: middle;\n",
       "    }\n",
       "\n",
       "    .dataframe tbody tr th {\n",
       "        vertical-align: top;\n",
       "    }\n",
       "\n",
       "    .dataframe thead th {\n",
       "        text-align: right;\n",
       "    }\n",
       "</style>\n",
       "<table border=\"1\" class=\"dataframe\">\n",
       "  <thead>\n",
       "    <tr style=\"text-align: right;\">\n",
       "      <th></th>\n",
       "      <th>precision</th>\n",
       "      <th>recall</th>\n",
       "      <th>f1-score</th>\n",
       "      <th>support</th>\n",
       "    </tr>\n",
       "  </thead>\n",
       "  <tbody>\n",
       "    <tr>\n",
       "      <th>0</th>\n",
       "      <td>0.886133</td>\n",
       "      <td>0.7860</td>\n",
       "      <td>0.833068</td>\n",
       "      <td>1000.0000</td>\n",
       "    </tr>\n",
       "    <tr>\n",
       "      <th>1</th>\n",
       "      <td>0.983984</td>\n",
       "      <td>0.9830</td>\n",
       "      <td>0.983492</td>\n",
       "      <td>1000.0000</td>\n",
       "    </tr>\n",
       "    <tr>\n",
       "      <th>2</th>\n",
       "      <td>0.882419</td>\n",
       "      <td>0.7880</td>\n",
       "      <td>0.832541</td>\n",
       "      <td>1000.0000</td>\n",
       "    </tr>\n",
       "    <tr>\n",
       "      <th>3</th>\n",
       "      <td>0.919372</td>\n",
       "      <td>0.8780</td>\n",
       "      <td>0.898210</td>\n",
       "      <td>1000.0000</td>\n",
       "    </tr>\n",
       "    <tr>\n",
       "      <th>4</th>\n",
       "      <td>0.821161</td>\n",
       "      <td>0.8770</td>\n",
       "      <td>0.848162</td>\n",
       "      <td>1000.0000</td>\n",
       "    </tr>\n",
       "    <tr>\n",
       "      <th>5</th>\n",
       "      <td>0.983968</td>\n",
       "      <td>0.9820</td>\n",
       "      <td>0.982983</td>\n",
       "      <td>1000.0000</td>\n",
       "    </tr>\n",
       "    <tr>\n",
       "      <th>6</th>\n",
       "      <td>0.649629</td>\n",
       "      <td>0.7880</td>\n",
       "      <td>0.712155</td>\n",
       "      <td>1000.0000</td>\n",
       "    </tr>\n",
       "    <tr>\n",
       "      <th>7</th>\n",
       "      <td>0.954320</td>\n",
       "      <td>0.9610</td>\n",
       "      <td>0.957648</td>\n",
       "      <td>1000.0000</td>\n",
       "    </tr>\n",
       "    <tr>\n",
       "      <th>8</th>\n",
       "      <td>0.985743</td>\n",
       "      <td>0.9680</td>\n",
       "      <td>0.976791</td>\n",
       "      <td>1000.0000</td>\n",
       "    </tr>\n",
       "    <tr>\n",
       "      <th>9</th>\n",
       "      <td>0.968938</td>\n",
       "      <td>0.9670</td>\n",
       "      <td>0.967968</td>\n",
       "      <td>1000.0000</td>\n",
       "    </tr>\n",
       "    <tr>\n",
       "      <th>accuracy</th>\n",
       "      <td>0.897800</td>\n",
       "      <td>0.8978</td>\n",
       "      <td>0.897800</td>\n",
       "      <td>0.8978</td>\n",
       "    </tr>\n",
       "    <tr>\n",
       "      <th>macro avg</th>\n",
       "      <td>0.903567</td>\n",
       "      <td>0.8978</td>\n",
       "      <td>0.899302</td>\n",
       "      <td>10000.0000</td>\n",
       "    </tr>\n",
       "    <tr>\n",
       "      <th>weighted avg</th>\n",
       "      <td>0.903567</td>\n",
       "      <td>0.8978</td>\n",
       "      <td>0.899302</td>\n",
       "      <td>10000.0000</td>\n",
       "    </tr>\n",
       "  </tbody>\n",
       "</table>\n",
       "</div>"
      ],
      "text/plain": [
       "              precision  recall  f1-score     support\n",
       "0              0.886133  0.7860  0.833068   1000.0000\n",
       "1              0.983984  0.9830  0.983492   1000.0000\n",
       "2              0.882419  0.7880  0.832541   1000.0000\n",
       "3              0.919372  0.8780  0.898210   1000.0000\n",
       "4              0.821161  0.8770  0.848162   1000.0000\n",
       "5              0.983968  0.9820  0.982983   1000.0000\n",
       "6              0.649629  0.7880  0.712155   1000.0000\n",
       "7              0.954320  0.9610  0.957648   1000.0000\n",
       "8              0.985743  0.9680  0.976791   1000.0000\n",
       "9              0.968938  0.9670  0.967968   1000.0000\n",
       "accuracy       0.897800  0.8978  0.897800      0.8978\n",
       "macro avg      0.903567  0.8978  0.899302  10000.0000\n",
       "weighted avg   0.903567  0.8978  0.899302  10000.0000"
      ]
     },
     "execution_count": 51,
     "metadata": {},
     "output_type": "execute_result"
    }
   ],
   "source": [
    "import sklearn.metrics as metrics\n",
    "import dataframe_image as dfi\n",
    "\n",
    "df = pd.DataFrame(metrics.classification_report(labels_l, prediction_l, output_dict=True)).T\n",
    "df"
   ]
  },
  {
   "cell_type": "code",
   "execution_count": 18,
   "metadata": {},
   "outputs": [],
   "source": [
    "# Red neuronal sin capa de convolución y con una sola capa intermedia donde n es el tamaño de la misma. \n",
    "class NeuralNet(nn.Module):\n",
    "    def __init__(self):\n",
    "        super(NeuralNet,self).__init__()\n",
    "        self.flatten = nn.Flatten()\n",
    "        self.drop = nn.Dropout(0.25)\n",
    "        self.relu = nn.ReLU()\n",
    "        self.l1 = nn.Linear(28*28,n)\n",
    "        self.l2 = nn.Linear(n,n)\n",
    "        self.l3 = nn.Linear(n,10)\n",
    "        \n",
    "    def forward(self,x):\n",
    "        x = self.flatten(x)\n",
    "        x = self.l1(x)\n",
    "        x = self.drop(x)\n",
    "        x = self.relu(x)\n",
    "        x = self.l2(x)\n",
    "        x = self.relu(x)\n",
    "        x = self.l3(x)\n",
    "        return x"
   ]
  },
  {
   "cell_type": "code",
   "execution_count": 19,
   "metadata": {},
   "outputs": [
    {
     "name": "stdout",
     "output_type": "stream",
     "text": [
      "NeuralNet(\n",
      "  (flatten): Flatten(start_dim=1, end_dim=-1)\n",
      "  (drop): Dropout(p=0.25, inplace=False)\n",
      "  (relu): ReLU()\n",
      "  (l1): Linear(in_features=784, out_features=256, bias=True)\n",
      "  (l2): Linear(in_features=256, out_features=256, bias=True)\n",
      "  (l3): Linear(in_features=256, out_features=10, bias=True)\n",
      ")\n"
     ]
    }
   ],
   "source": [
    "n = 256\n",
    "NN = NeuralNet()\n",
    "NN.to(device)\n",
    "\n",
    "loss_fn = nn.CrossEntropyLoss()\n",
    "\n",
    "learning_rate = 0.001\n",
    "optimizer = torch.optim.Adam(NN.parameters(), lr=learning_rate)\n",
    "print(NN)"
   ]
  },
  {
   "cell_type": "code",
   "execution_count": 20,
   "metadata": {},
   "outputs": [
    {
     "name": "stdout",
     "output_type": "stream",
     "text": [
      "Epoch 1/20, Train Loss: 0.582552061855793, Valid Loss: 0.4203771914541721, Valid Accuracy: 84.47000122070312\n",
      "Epoch 2/20, Train Loss: 0.40926739114522936, Valid Loss: 0.37364692643284797, Valid Accuracy: 86.0\n",
      "Epoch 3/20, Train Loss: 0.37169280159473417, Valid Loss: 0.3467188407480717, Valid Accuracy: 87.41000366210938\n",
      "Epoch 4/20, Train Loss: 0.3504994460642338, Valid Loss: 0.33191036209464075, Valid Accuracy: 87.91000366210938\n",
      "Epoch 5/20, Train Loss: 0.33088768446445466, Valid Loss: 0.3199242749810219, Valid Accuracy: 88.66999816894531\n",
      "Epoch 6/20, Train Loss: 0.32177480483055115, Valid Loss: 0.33812385305762294, Valid Accuracy: 87.44999694824219\n",
      "Epoch 7/20, Train Loss: 0.3095157310366631, Valid Loss: 0.30492294698953626, Valid Accuracy: 88.77999877929688\n",
      "Epoch 8/20, Train Loss: 0.29674978721141815, Valid Loss: 0.30628640949726105, Valid Accuracy: 88.69000244140625\n",
      "Epoch 9/20, Train Loss: 0.28962839011847974, Valid Loss: 0.30241987347602844, Valid Accuracy: 89.0199966430664\n",
      "Epoch 10/20, Train Loss: 0.27995639663934707, Valid Loss: 0.3001329818367958, Valid Accuracy: 89.01000213623047\n",
      "Epoch 11/20, Train Loss: 0.27367316782474516, Valid Loss: 0.29308308884501455, Valid Accuracy: 89.4000015258789\n",
      "Epoch 12/20, Train Loss: 0.26934075050055983, Valid Loss: 0.2992363679409027, Valid Accuracy: 89.16999816894531\n",
      "Epoch 13/20, Train Loss: 0.2610910385996103, Valid Loss: 0.30070051476359366, Valid Accuracy: 88.9000015258789\n",
      "Epoch 14/20, Train Loss: 0.2562076123654842, Valid Loss: 0.3022387018799782, Valid Accuracy: 89.37000274658203\n",
      "Epoch 15/20, Train Loss: 0.25167716141045093, Valid Loss: 0.2954478265345097, Valid Accuracy: 89.37999725341797\n",
      "Epoch 16/20, Train Loss: 0.24581096087396145, Valid Loss: 0.2841764469444752, Valid Accuracy: 89.70999908447266\n",
      "Epoch 17/20, Train Loss: 0.23936755757033826, Valid Loss: 0.2997954075038433, Valid Accuracy: 89.29000091552734\n",
      "Epoch 18/20, Train Loss: 0.23457368859648706, Valid Loss: 0.2826591884344816, Valid Accuracy: 89.80999755859375\n",
      "Epoch 19/20, Train Loss: 0.23004711279273032, Valid Loss: 0.2964670503139496, Valid Accuracy: 89.33000183105469\n",
      "Epoch 20/20, Train Loss: 0.22648950330913067, Valid Loss: 0.3109646451473236, Valid Accuracy: 88.8499984741211\n"
     ]
    }
   ],
   "source": [
    "# Se entrena y se valida el modelo \n",
    "epochs = 20\n",
    "train_loss_net = []\n",
    "valid_loss_net = []\n",
    "valid_accu_net = []\n",
    "\n",
    "for e in range(1, epochs+1):\n",
    "    training_loss = training(train_loader, NN)\n",
    "    validation_loss, validation_accu = validate(valid_loader, NN)\n",
    "    print(f'Epoch {e}/{epochs}, Train Loss: {training_loss}, Valid Loss: {validation_loss}, Valid Accuracy: {validation_accu}')\n",
    "    train_loss_net.append(training_loss)\n",
    "    valid_loss_net.append(validation_loss)\n",
    "    valid_accu_net.append(validation_accu)"
   ]
  },
  {
   "cell_type": "code",
   "execution_count": 21,
   "metadata": {},
   "outputs": [
    {
     "data": {
      "image/png": "[encoded data removed]",
      "text/plain": [
       "<Figure size 432x288 with 1 Axes>"
      ]
     },
     "metadata": {
      "needs_background": "light"
     },
     "output_type": "display_data"
    }
   ],
   "source": [
    "# Gráfico sobre la función de pérdida del entrenamiento y de la validación\n",
    "plt.plot([i for i in range(1, 21)],train_loss_net, c = 'magenta')\n",
    "plt.plot([i for i in range(1, 21)],valid_loss_net, c ='orange')\n",
    "plt.xlabel(\"No. of Epoch\")\n",
    "plt.ylabel(\"Loss\")\n",
    "plt.savefig('train_valid_loss.pdf')\n",
    "plt.show()"
   ]
  },
  {
   "cell_type": "code",
   "execution_count": 22,
   "metadata": {},
   "outputs": [
    {
     "data": {
      "image/png": "[encoded data removed]",
      "text/plain": [
       "<Figure size 432x288 with 1 Axes>"
      ]
     },
     "metadata": {
      "needs_background": "light"
     },
     "output_type": "display_data"
    }
   ],
   "source": [
    "# Gráfico sobre la precisión del modelo sobre el conjunto de validación \n",
    "plt.plot([i for i in range(1, 21)],valid_accu_net, c = 'red')\n",
    "plt.xlabel(\"No. of Epoch\")\n",
    "plt.ylabel(\"Loss\")\n",
    "plt.savefig('valid_accu.pdf')\n",
    "plt.show()"
   ]
  },
  {
   "cell_type": "markdown",
   "metadata": {},
   "source": [
    "### Precisión del modelo sobre cada una de las etiquetas de la base de datos "
   ]
  },
  {
   "cell_type": "code",
   "execution_count": 23,
   "metadata": {},
   "outputs": [
    {
     "name": "stdout",
     "output_type": "stream",
     "text": [
      "Accuracy of T-Shirt: 84.80%\n",
      "Accuracy of Trouser: 96.80%\n",
      "Accuracy of Pullover: 83.50%\n",
      "Accuracy of Dress: 91.10%\n",
      "Accuracy of Coat: 87.00%\n",
      "Accuracy of Sandal: 94.00%\n",
      "Accuracy of Shirt: 55.90%\n",
      "Accuracy of Sneaker: 93.70%\n",
      "Accuracy of Bag: 95.20%\n",
      "Accuracy of Ankle Boot: 97.90%\n"
     ]
    }
   ],
   "source": [
    "class_correct = [0. for _ in range(10)]\n",
    "total_correct = [0. for _ in range(10)]\n",
    "labels_list_2 = []\n",
    "prediction_list_2 = []\n",
    "\n",
    "with torch.no_grad():\n",
    "    for images, labels in test_loader:\n",
    "        images, labels = images.to(device), labels.to(device)\n",
    "        labels_list_2.append(labels)\n",
    "        test = images\n",
    "        out = NN(test)\n",
    "        predict = torch.max(out, 1)[1]\n",
    "        prediction_list_2.append(predict)\n",
    "        c = (predict == labels).squeeze()\n",
    "        \n",
    "        for i in range(100):\n",
    "            label = labels[i]\n",
    "            class_correct[label] += c[i].item()\n",
    "            total_correct[label] += 1\n",
    "            \n",
    "label_list = list(labels_map.values()) #Transforma el diccionario en una lista    \n",
    "for i in range(10):\n",
    "    print(\"Accuracy of {}: {:.2f}%\".format(label_list[i], class_correct[i] * 100 / total_correct[i]))"
   ]
  },
  {
   "cell_type": "code",
   "execution_count": 24,
   "metadata": {},
   "outputs": [],
   "source": [
    "from itertools import chain \n",
    "\n",
    "prediction_l_2 = [prediction_list_2[i].tolist() for i in range(len(prediction_list_2))]\n",
    "labels_l_2 = [labels_list_2[i].tolist() for i in range(len(labels_list_2))]\n",
    "prediction_l_2 = list(chain.from_iterable(prediction_l_2))\n",
    "labels_l_2 = list(chain.from_iterable(labels_l_2))"
   ]
  },
  {
   "cell_type": "code",
   "execution_count": 35,
   "metadata": {},
   "outputs": [
    {
     "data": {
      "text/html": [
       "<div>\n",
       "<style scoped>\n",
       "    .dataframe tbody tr th:only-of-type {\n",
       "        vertical-align: middle;\n",
       "    }\n",
       "\n",
       "    .dataframe tbody tr th {\n",
       "        vertical-align: top;\n",
       "    }\n",
       "\n",
       "    .dataframe thead th {\n",
       "        text-align: right;\n",
       "    }\n",
       "</style>\n",
       "<table border=\"1\" class=\"dataframe\">\n",
       "  <thead>\n",
       "    <tr style=\"text-align: right;\">\n",
       "      <th></th>\n",
       "      <th>precision</th>\n",
       "      <th>recall</th>\n",
       "      <th>f1-score</th>\n",
       "      <th>support</th>\n",
       "    </tr>\n",
       "  </thead>\n",
       "  <tbody>\n",
       "    <tr>\n",
       "      <th>0</th>\n",
       "      <td>0.824101</td>\n",
       "      <td>0.8480</td>\n",
       "      <td>0.835880</td>\n",
       "      <td>1000.0000</td>\n",
       "    </tr>\n",
       "    <tr>\n",
       "      <th>1</th>\n",
       "      <td>0.990788</td>\n",
       "      <td>0.9680</td>\n",
       "      <td>0.979262</td>\n",
       "      <td>1000.0000</td>\n",
       "    </tr>\n",
       "    <tr>\n",
       "      <th>2</th>\n",
       "      <td>0.735035</td>\n",
       "      <td>0.8350</td>\n",
       "      <td>0.781835</td>\n",
       "      <td>1000.0000</td>\n",
       "    </tr>\n",
       "    <tr>\n",
       "      <th>3</th>\n",
       "      <td>0.875120</td>\n",
       "      <td>0.9110</td>\n",
       "      <td>0.892700</td>\n",
       "      <td>1000.0000</td>\n",
       "    </tr>\n",
       "    <tr>\n",
       "      <th>4</th>\n",
       "      <td>0.754553</td>\n",
       "      <td>0.8700</td>\n",
       "      <td>0.808175</td>\n",
       "      <td>1000.0000</td>\n",
       "    </tr>\n",
       "    <tr>\n",
       "      <th>5</th>\n",
       "      <td>0.986359</td>\n",
       "      <td>0.9400</td>\n",
       "      <td>0.962622</td>\n",
       "      <td>1000.0000</td>\n",
       "    </tr>\n",
       "    <tr>\n",
       "      <th>6</th>\n",
       "      <td>0.808973</td>\n",
       "      <td>0.5590</td>\n",
       "      <td>0.661147</td>\n",
       "      <td>1000.0000</td>\n",
       "    </tr>\n",
       "    <tr>\n",
       "      <th>7</th>\n",
       "      <td>0.957099</td>\n",
       "      <td>0.9370</td>\n",
       "      <td>0.946943</td>\n",
       "      <td>1000.0000</td>\n",
       "    </tr>\n",
       "    <tr>\n",
       "      <th>8</th>\n",
       "      <td>0.983471</td>\n",
       "      <td>0.9520</td>\n",
       "      <td>0.967480</td>\n",
       "      <td>1000.0000</td>\n",
       "    </tr>\n",
       "    <tr>\n",
       "      <th>9</th>\n",
       "      <td>0.912395</td>\n",
       "      <td>0.9790</td>\n",
       "      <td>0.944525</td>\n",
       "      <td>1000.0000</td>\n",
       "    </tr>\n",
       "    <tr>\n",
       "      <th>accuracy</th>\n",
       "      <td>0.879900</td>\n",
       "      <td>0.8799</td>\n",
       "      <td>0.879900</td>\n",
       "      <td>0.8799</td>\n",
       "    </tr>\n",
       "    <tr>\n",
       "      <th>macro avg</th>\n",
       "      <td>0.882789</td>\n",
       "      <td>0.8799</td>\n",
       "      <td>0.878057</td>\n",
       "      <td>10000.0000</td>\n",
       "    </tr>\n",
       "    <tr>\n",
       "      <th>weighted avg</th>\n",
       "      <td>0.882789</td>\n",
       "      <td>0.8799</td>\n",
       "      <td>0.878057</td>\n",
       "      <td>10000.0000</td>\n",
       "    </tr>\n",
       "  </tbody>\n",
       "</table>\n",
       "</div>"
      ],
      "text/plain": [
       "              precision  recall  f1-score     support\n",
       "0              0.824101  0.8480  0.835880   1000.0000\n",
       "1              0.990788  0.9680  0.979262   1000.0000\n",
       "2              0.735035  0.8350  0.781835   1000.0000\n",
       "3              0.875120  0.9110  0.892700   1000.0000\n",
       "4              0.754553  0.8700  0.808175   1000.0000\n",
       "5              0.986359  0.9400  0.962622   1000.0000\n",
       "6              0.808973  0.5590  0.661147   1000.0000\n",
       "7              0.957099  0.9370  0.946943   1000.0000\n",
       "8              0.983471  0.9520  0.967480   1000.0000\n",
       "9              0.912395  0.9790  0.944525   1000.0000\n",
       "accuracy       0.879900  0.8799  0.879900      0.8799\n",
       "macro avg      0.882789  0.8799  0.878057  10000.0000\n",
       "weighted avg   0.882789  0.8799  0.878057  10000.0000"
      ]
     },
     "execution_count": 35,
     "metadata": {},
     "output_type": "execute_result"
    }
   ],
   "source": [
    "import sklearn.metrics as metrics\n",
    "\n",
    "df2 = pd.DataFrame(metrics.classification_report(labels_l_2, prediction_l_2, output_dict=True)).T\n",
    "df2"
   ]
  }
 ],
 "metadata": {
  "accelerator": "GPU",
  "colab": {
   "collapsed_sections": [],
   "name": "fashion_MNIST.ipynb",
   "provenance": [],
   "version": "0.3.2"
  },
  "kernelspec": {
   "display_name": "Python 3 (ipykernel)",
   "language": "python",
   "name": "python3"
  },
  "language_info": {
   "codemirror_mode": {
    "name": "ipython",
    "version": 3
   },
   "file_extension": ".py",
   "mimetype": "text/x-python",
   "name": "python",
   "nbconvert_exporter": "python",
   "pygments_lexer": "ipython3",
   "version": "3.9.7"
  }
 },
 "nbformat": 4,
 "nbformat_minor": 4
}
