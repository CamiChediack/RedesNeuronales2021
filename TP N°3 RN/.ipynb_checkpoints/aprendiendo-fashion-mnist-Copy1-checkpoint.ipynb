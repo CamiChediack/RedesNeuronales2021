{
 "cells": [
  {
   "cell_type": "markdown",
   "metadata": {},
   "source": [
    "# Primer modelo \"serio\", aprendiendo Fashion-MNIST"
   ]
  },
  {
   "cell_type": "code",
   "execution_count": 1,
   "metadata": {},
   "outputs": [],
   "source": [
    "import torch\n",
    "from torch import nn\n",
    "from torch.utils.data import Dataset\n",
    "from torch.utils.data import DataLoader\n",
    "from torchvision import datasets\n",
    "from torchvision.transforms import ToTensor, Lambda, Compose\n",
    "import matplotlib.pyplot as plt\n",
    "import numpy as np\n",
    "import sklearn as skl\n",
    "from torchviz import make_dot\n",
    "import torch.optim as optim"
   ]
  },
  {
   "cell_type": "markdown",
   "metadata": {},
   "source": [
    "### Ejemplo 4: \n",
    "\n",
    "Podemos pensar una red neuronal como un *módulo* compuesto de otros *módulos* (p. ej. las capas).\n",
    "El namespace (espacio de nombres) `torch.nn` provee de diversos building blocks (bloques de construcción) que facilitan la creación de redes neuronales de arquitecturas complejas por medio de la composición de módulos.\n",
    "Más precisamente, PyTorch provee la clase `nn.Module`, la cual podemos subclasear para definir módulos propios.\n",
    "\n",
    "Veamos un ejemplo de uso, en donde construiremos una red neuronal para clasificar imágenes del dataset FashionMNIST.\n",
    "\n",
    "https://pytorch.org/tutorials/beginner/basics/buildmodel_tutorial.html"
   ]
  },
  {
   "cell_type": "markdown",
   "metadata": {},
   "source": [
    "Arquitectura se refiere a como se conectan los distintos bloques de la red, o sea se conecta con cuál o cuáles. En este caso vamos a tener un perceptron multicapa. "
   ]
  },
  {
   "cell_type": "markdown",
   "metadata": {},
   "source": [
    "Primero chequeamos si hay disponibles placas GPU con CUDA, o no."
   ]
  },
  {
   "cell_type": "code",
   "execution_count": 2,
   "metadata": {},
   "outputs": [
    {
     "name": "stdout",
     "output_type": "stream",
     "text": [
      "Usando el dispositivo cpu\n"
     ]
    }
   ],
   "source": [
    "device = 'cuda' if torch.cuda.is_available() else 'cpu'\n",
    "print('Usando el dispositivo {}'.format(device))"
   ]
  },
  {
   "cell_type": "markdown",
   "metadata": {},
   "source": [
    "Luego, definimos nuestro modelo como una clase derivada de la clase `nn.Module`.\n",
    "Inicializamos la red neuronal usando el metodo`.__init__()`.\n",
    "Toda subclase de `nn.Module` implementa el como operar sobre datos de entrada (input) para generar una salida (output) a travéz del método `.forward()`.\n",
    "Por otro lado, notar que NO implementamos el método `.backward()`."
   ]
  },
  {
   "cell_type": "markdown",
   "metadata": {},
   "source": [
    "---\n",
    "\n",
    "**Intermezzo.** Clases base y derivada. Las clases son el concepto central de la programación orientada a objetos.\n",
    "Las clases definen la interface entre  los objetos de una dada *clase* y el resto del programa.\n",
    "Esta inteface está compuesta por miembros.\n",
    "Hay, básicamente, dos tipos de miembros: los métodos (funciones) y los atributos."
   ]
  },
  {
   "cell_type": "code",
   "execution_count": 3,
   "metadata": {},
   "outputs": [],
   "source": [
    "# Definamos una clase\n",
    "class A:\n",
    "    def __init__(self,nombre):\n",
    "        self.nombre = nombre\n",
    "    def __str__(self):\n",
    "        return f\"Nombre={self.nombre}\"\n",
    "    def uppercase(self):\n",
    "        return self.nombre.upper()\n",
    "    def say_hi(self):\n",
    "        print(\"Hi!\")\n",
    "\n",
    "# E instanciemos un objeto de la misma\n",
    "a = A(\"mi-objeto\")"
   ]
  },
  {
   "cell_type": "code",
   "execution_count": 6,
   "metadata": {},
   "outputs": [
    {
     "data": {
      "text/plain": [
       "'mi-objeto'"
      ]
     },
     "execution_count": 6,
     "metadata": {},
     "output_type": "execute_result"
    }
   ],
   "source": [
    "# Inspeccionemos su atributo .nombre\n",
    "a.nombre"
   ]
  },
  {
   "cell_type": "code",
   "execution_count": 7,
   "metadata": {},
   "outputs": [
    {
     "data": {
      "text/plain": [
       "'MI-OBJETO'"
      ]
     },
     "execution_count": 7,
     "metadata": {},
     "output_type": "execute_result"
    }
   ],
   "source": [
    "# Invoquemos su método .uppercase()\n",
    "a.uppercase()"
   ]
  },
  {
   "cell_type": "code",
   "execution_count": 8,
   "metadata": {},
   "outputs": [
    {
     "name": "stdout",
     "output_type": "stream",
     "text": [
      "Hi!\n"
     ]
    }
   ],
   "source": [
    "# Invoquemos su método .say_hi()\n",
    "a.say_hi()"
   ]
  },
  {
   "cell_type": "code",
   "execution_count": 9,
   "metadata": {},
   "outputs": [
    {
     "name": "stdout",
     "output_type": "stream",
     "text": [
      "Nombre=mi-objeto\n"
     ]
    }
   ],
   "source": [
    "# Invoquemos el método .__str__()\n",
    "print(a)"
   ]
  },
  {
   "cell_type": "code",
   "execution_count": 10,
   "metadata": {},
   "outputs": [
    {
     "name": "stdout",
     "output_type": "stream",
     "text": [
      "Nombre=mi-otro-objeto, Cantidad=10\n"
     ]
    }
   ],
   "source": [
    "# Definamos una clase derivada, Z es una clase derivada de A\n",
    "class Z(A):\n",
    "    def __init__(self,nombre,cantidad):\n",
    "        super(Z,self).__init__(nombre) # Llamemos al inicializador de la clase base (o super-clase).\n",
    "        self.cantidad=cantidad\n",
    "    def __str__(self):\n",
    "        return f\"Nombre={self.nombre}, Cantidad={self.cantidad}\"\n",
    "    def add_n(self,n):\n",
    "        return self.cantidad+n\n",
    "    def say_hi(self): # Redefinamos el método .say_hi()\n",
    "        print(\"Hello!\")\n",
    "    \n",
    "# Instanciemos un objeto de la clase Z\n",
    "z = Z(\"mi-otro-objeto\",10)\n",
    "# e invoquemos el método .__str__()\n",
    "print(z)"
   ]
  },
  {
   "cell_type": "code",
   "execution_count": 11,
   "metadata": {},
   "outputs": [
    {
     "data": {
      "text/plain": [
       "10"
      ]
     },
     "execution_count": 11,
     "metadata": {},
     "output_type": "execute_result"
    }
   ],
   "source": [
    "# Veamos el atributo .cantidad\n",
    "z.cantidad"
   ]
  },
  {
   "cell_type": "code",
   "execution_count": 12,
   "metadata": {},
   "outputs": [
    {
     "data": {
      "text/plain": [
       "'mi-otro-objeto'"
      ]
     },
     "execution_count": 12,
     "metadata": {},
     "output_type": "execute_result"
    }
   ],
   "source": [
    "# Y también el miembro heredado .nombre\n",
    "z.nombre"
   ]
  },
  {
   "cell_type": "code",
   "execution_count": 13,
   "metadata": {},
   "outputs": [
    {
     "data": {
      "text/plain": [
       "15"
      ]
     },
     "execution_count": 13,
     "metadata": {},
     "output_type": "execute_result"
    }
   ],
   "source": [
    "# Invoquemos el método .add1()\n",
    "z.add_n(5)"
   ]
  },
  {
   "cell_type": "code",
   "execution_count": null,
   "metadata": {},
   "outputs": [],
   "source": [
    "# Invoquemos, también, el método .uppercase()"
   ]
  },
  {
   "cell_type": "code",
   "execution_count": 14,
   "metadata": {},
   "outputs": [
    {
     "data": {
      "text/plain": [
       "'MI-OTRO-OBJETO'"
      ]
     },
     "execution_count": 14,
     "metadata": {},
     "output_type": "execute_result"
    }
   ],
   "source": [
    "z.uppercase()"
   ]
  },
  {
   "cell_type": "code",
   "execution_count": 15,
   "metadata": {},
   "outputs": [
    {
     "name": "stdout",
     "output_type": "stream",
     "text": [
      "Hello!\n"
     ]
    }
   ],
   "source": [
    "# Y, finalmente, invoquemos el método heredado y redefinido .say_hi()\n",
    "z.say_hi()"
   ]
  },
  {
   "cell_type": "markdown",
   "metadata": {},
   "source": [
    "Vemos que los métodos (y atributos) heredados se comportantal como fueron definidos en la clase base (`A` en este caso), salvo que se los redefinan en la clase derivada (`Z` en este caso).\n",
    "\n",
    "Las clases bases son también conocidas como super-clases y las clases derivadas como sub-clases.\n",
    "Una clase puede tener varias super-clases.\n",
    "De una clase pueden derivarse varias sub-clases.\n",
    "\n",
    "Si una clase A tiene una super clase B, y B tiene una superclase C, entonces C es una superclase (no inmediata) de A.\n",
    "Decimos que existe una dependencia circular entre dos clases A y B, si A es una superclase de B y B una superclase de A.\n",
    "Hay que evitar dependencias circulares entre clases.\n",
    "\n",
    "---"
   ]
  },
  {
   "cell_type": "code",
   "execution_count": 16,
   "metadata": {},
   "outputs": [],
   "source": [
    "class NeuralNetwork(nn.Module): #Clase derivada de nn.Module, que lo provee Pytorch\n",
    "    def __init__(self):\n",
    "        super(NeuralNetwork, self).__init__()\n",
    "        # Primero convertimos los datos de entrada a un gran vector.\n",
    "        self.flatten = nn.Flatten()\n",
    "        # Luego generamos una secuencia de transformaciones que implementan las capas de la red.\n",
    "        # Algunas capas consisten en transformaciones lineales, que incluyen parámetros.\n",
    "        # Otras consisten en funciones de activación no lineales (en este caso de tipo ReLU), que no incluyen parámetros.\n",
    "        # Los tamaños de las capas se especifican a travez de los tamaños de las transformaciones lineales.\n",
    "        self.linear_relu_stack = nn.Sequential(\n",
    "            nn.Linear(28*28, 512), #input 28*28 = 784 y la caoa intermedia es 512\n",
    "            nn.ReLU(),\n",
    "            nn.Linear(512, 512),\n",
    "            nn.ReLU(),\n",
    "            nn.Linear(512, 10), # El output es 10\n",
    "        ) #Perceptron multicapa con 3 lineales y 2 ReLU\n",
    "\n",
    "    def forward(self, x):\n",
    "        # Este método es usado internamente para transformar inputs en outputs en las fases forward.\n",
    "        # Al igual que antes, aplanamos los datos de entrada en un gran vector.\n",
    "        x = self.flatten(x) #Achata el input\n",
    "        logits = self.linear_relu_stack(x)\n",
    "        return logits"
   ]
  },
  {
   "cell_type": "markdown",
   "metadata": {},
   "source": [
    "---\n",
    "\n",
    "**Intermezzo.** Recordemos que es una *logit*. En estadística, la *logit* es la inversa de la función *logística*\n",
    "\n",
    "$$ \\sigma(x) = \\frac{1}{1+e^{-x}} $$\n",
    "\n",
    "donde $x\\in (-\\infty,\\infty)$ y $\\sigma(x)\\in (0,1)$. En particular, $\\sigma(x\\to -\\infty) = 0$ y $\\sigma(x\\to \\infty) = 1$.\n",
    "Por ende, \n",
    "\n",
    "$$ \\mathsf{logit}(p) = \\sigma^{-1}(p) = \\ln\\bigg(\\frac{p}{1-p}\\bigg) $$\n",
    "\n",
    "donde $p\\in (0,1)$ y $\\mathsf{logit}(p)\\in (-\\infty,\\infty)$. En particular, $\\mathsf{logit}(p\\to 0^+) \\to -\\infty$ y $\\mathsf{logit}(p\\to 1^-) \\to \\infty$.\n",
    "\n",
    "La *logística* es una función creciente que convierte un número real en un número entre 0 y 1.\n",
    "\n",
    "---"
   ]
  },
  {
   "cell_type": "markdown",
   "metadata": {},
   "source": [
    "Luego creamos una un objeto (o instancia) de la clase `NeuralNetwork`, y lo movemos al dispositivo que usaremos.\n",
    "Además, imprimimos su estructura para ver inspeccionar."
   ]
  },
  {
   "cell_type": "code",
   "execution_count": 17,
   "metadata": {
    "scrolled": false
   },
   "outputs": [
    {
     "name": "stdout",
     "output_type": "stream",
     "text": [
      "NeuralNetwork(\n",
      "  (flatten): Flatten(start_dim=1, end_dim=-1)\n",
      "  (linear_relu_stack): Sequential(\n",
      "    (0): Linear(in_features=784, out_features=512, bias=True)\n",
      "    (1): ReLU()\n",
      "    (2): Linear(in_features=512, out_features=512, bias=True)\n",
      "    (3): ReLU()\n",
      "    (4): Linear(in_features=512, out_features=10, bias=True)\n",
      "  )\n",
      ")\n"
     ]
    }
   ],
   "source": [
    "model = NeuralNetwork().to(device)\n",
    "print(model)"
   ]
  },
  {
   "cell_type": "markdown",
   "metadata": {},
   "source": [
    "---\n",
    "\n",
    "**Intermezzo** Recordemos que la función $\\mathsf{softmax} \\in \\mathbb{R}^n\\to \\mathbb{R}^n$ viene dada por\n",
    "\n",
    "$$ \\mathsf{softmax}_i(v) = \\frac{e^{v_i}}{\\sum_j e^{v_j}} $$\n",
    "\n",
    "donde $v=(v_1,v_2,...,v_n)$ y $v_i \\in (-\\infty,\\infty)$. \n",
    "Notar, $\\sum_i \\mathsf{softmax}_i(v) = 1$.\n",
    "La función $\\mathsf{softmax}$ provee una forma de convertir una tupla de números reales a una distribución de probabilidades acorde.\n",
    "\n",
    "---\n",
    "\n",
    "Para usar el modelo, le pasamos datos de entrada.\n",
    "Esto ejecuta el método `.forward()`, junto con algunas otras operaciones de fondo.\n",
    "Ojo! No hay que llamar `model.forward()` directamente!\n",
    "\n",
    "Tras llamar el modelo sobre algunos inputs, este retorna un tensor 10-dimensional con algunos valores crudos o *raw* predecidos para cada clase.\n",
    "Obtenemos de estos probabilidades de predicción por medio de pasarlos a travéz de una instancia del modulo `nn.Softmax`.\n",
    "\n",
    "Veamos un ejemplo"
   ]
  },
  {
   "cell_type": "code",
   "execution_count": 18,
   "metadata": {},
   "outputs": [
    {
     "name": "stdout",
     "output_type": "stream",
     "text": [
      "Salida del modelo = tensor([[-0.0414,  0.1011, -0.0842,  0.0281, -0.0182,  0.0020,  0.0967,  0.0078,\n",
      "         -0.0131,  0.0903]], grad_fn=<AddmmBackward0>)\n",
      "\n",
      "Probabilidades predecidas = tensor([[0.0942, 0.1086, 0.0902, 0.1009, 0.0964, 0.0983, 0.1081, 0.0989, 0.0969,\n",
      "         0.1074]], grad_fn=<SoftmaxBackward0>)\n",
      "\n",
      "Categoría predecida: tensor([1])\n"
     ]
    }
   ],
   "source": [
    "# Generamos una muestra de entrada trucha que imite a FashionMNIST (una imagen de píxeles aleatorios).\n",
    "X = torch.rand(1, 28, 28, device=device)\n",
    "\n",
    "# Se los damos de comer al modelo via el método .__call__() del mismo, que hereda de la clase nn.Module.\n",
    "# Eventualmente, el método .__call__() se encargará de llamar al método .forward() que nosotros hemos \n",
    "# implementado.\n",
    "# Notar que este modelo no está entrenado, por lo que el output será \"cualquier cosa\".\n",
    "logits = model(X)\n",
    "\n",
    "# Imprimimos la salida cruda (raw) generada por el modelo\n",
    "print(f\"Salida del modelo = {logits}\")\n",
    "print(\"\")\n",
    "\n",
    "# Usando la función \"softmax\", convertimos estos valores crudos a probabilidades y las imprimimos\n",
    "pred_probab = nn.Softmax(dim=1)(logits)\n",
    "print(f\"Probabilidades predecidas = {pred_probab}\")\n",
    "print(\"\")\n",
    "\n",
    "# Elegimos la categoría asociada a la mayor probabilidad.\n",
    "y_pred = pred_probab.argmax(1)\n",
    "print(f\"Categoría predecida: {y_pred}\")"
   ]
  },
  {
   "cell_type": "markdown",
   "metadata": {},
   "source": [
    "Ahora, veamos como entrenar el modelo con el dataset *FashionMNIST*.\n",
    "\n",
    "https://github.com/zalandoresearch/fashion-mnist\n",
    "\n",
    "Este dataset se implementa en términos de las clases `Dataset` y `DataLoader` proveidas por PyTorch.\n",
    "Respecitivamente, estas clases se usan para cargar y muestrear conjuntos de datos de formas convenientes y compatibles con PyTorch.\n",
    "\n",
    "Comenzamos por cargar el dataset de entrenamiento (train) y el dataset de prueba (test)."
   ]
  },
  {
   "cell_type": "code",
   "execution_count": 19,
   "metadata": {},
   "outputs": [],
   "source": [
    "# La primera vez esto tarda un rato ya que tiene que bajar los datos de la red.\n",
    "\n",
    "training_data = datasets.FashionMNIST(\n",
    "    root=\"data\",\n",
    "    train=True,\n",
    "    download=True,\n",
    "    transform=ToTensor()\n",
    ")\n",
    "\n",
    "test_data = datasets.FashionMNIST(\n",
    "    root=\"data\",\n",
    "    train=False,\n",
    "    download=True,\n",
    "    transform=ToTensor()\n",
    ")\n",
    "# FashionMNIST es una clase derivada de la clase dataset"
   ]
  },
  {
   "cell_type": "markdown",
   "metadata": {},
   "source": [
    "Para entender mejor que son estos objetos, veamos de que clases derivan"
   ]
  },
  {
   "cell_type": "code",
   "execution_count": 20,
   "metadata": {},
   "outputs": [
    {
     "data": {
      "text/plain": [
       "(torchvision.datasets.mnist.FashionMNIST,\n",
       " torchvision.datasets.mnist.MNIST,\n",
       " torchvision.datasets.vision.VisionDataset,\n",
       " torch.utils.data.dataset.Dataset,\n",
       " typing.Generic,\n",
       " object)"
      ]
     },
     "execution_count": 20,
     "metadata": {},
     "output_type": "execute_result"
    }
   ],
   "source": [
    "training_data.__class__.__mro__"
   ]
  },
  {
   "cell_type": "code",
   "execution_count": null,
   "metadata": {},
   "outputs": [],
   "source": [
    "test_data.__class__.__mro__"
   ]
  },
  {
   "cell_type": "markdown",
   "metadata": {},
   "source": [
    "Para entender como funciona la clase `Dataset`, veamos brevemente un ejemplo de una clase personalizada que se deriva de la misma."
   ]
  },
  {
   "cell_type": "code",
   "execution_count": 33,
   "metadata": {},
   "outputs": [],
   "source": [
    "import os\n",
    "import pandas as pd\n",
    "from torchvision.io import read_image\n",
    "\n",
    "# Por el momento, a esta clase la definimos pero no la usamos.\n",
    "class CustomImageDataset(Dataset):\n",
    "    def __init__(self, annotations_file, img_dir, transform=None, target_transform=None):\n",
    "        self.img_labels = pd.read_csv(annotations_file)\n",
    "        self.img_dir = img_dir\n",
    "        self.transform = transform\n",
    "        self.target_transform = target_transform\n",
    "\n",
    "    # Redefinimos el método .__len__()\n",
    "    def __len__(self):\n",
    "        return len(self.img_labels)\n",
    "\n",
    "    # Redefinimos el método .__getitem__()    \n",
    "    def __getitem__(self, idx):\n",
    "        img_path = os.path.join(self.img_dir, self.img_labels.iloc[idx, 0])\n",
    "        image = read_image(img_path)\n",
    "        label = self.img_labels.iloc[idx, 1]\n",
    "        if self.transform:\n",
    "            image = self.transform(image)\n",
    "        if self.target_transform:\n",
    "            label = self.target_transform(label)\n",
    "        return image, label #Para el tp 3 tiene que retornar la imagen otra vez y no el label"
   ]
  },
  {
   "cell_type": "markdown",
   "metadata": {},
   "source": [
    "Exploremos un poco los datos de FashionMNIST."
   ]
  },
  {
   "cell_type": "code",
   "execution_count": 22,
   "metadata": {},
   "outputs": [
    {
     "data": {
      "image/png": "[encoded data removed]",
      "text/plain": [
       "<Figure size 576x576 with 9 Axes>"
      ]
     },
     "metadata": {
      "needs_background": "light"
     },
     "output_type": "display_data"
    }
   ],
   "source": [
    "# Las muestras de FashionMNIST consisten en imágenes en 256 escalas de grises de 28x28 píxeles cada una.\n",
    "# Las imágenes constituyen prendas, calzados, etc.\n",
    "# Cada imagen tiene asociado un etiqueta (label) que puede adoptar un valor de entre 10 opciones.\n",
    "# Cada etiqueta representa una de las 10 categorías en las que las imágenes fueron clasificadas.\n",
    "# El objetivo es aprender a clasificar éstas imágenes de acuerdo a las etiquetas asociadas.\n",
    "\n",
    "# Las etiquetas son\n",
    "labels_map = {\n",
    "    0: \"T-Shirt\",\n",
    "    1: \"Trouser\",\n",
    "    2: \"Pullover\",\n",
    "    3: \"Dress\",\n",
    "    4: \"Coat\",\n",
    "    5: \"Sandal\",\n",
    "    6: \"Shirt\",\n",
    "    7: \"Sneaker\",\n",
    "    8: \"Bag\",\n",
    "    9: \"Ankle Boot\",\n",
    "}\n",
    "\n",
    "# Cada dataset puede ser indexado.\n",
    "figure = plt.figure(figsize=(8, 8))\n",
    "cols, rows = 3, 3\n",
    "for i in range(1, cols * rows + 1):\n",
    "    sample_idx = torch.randint(len(training_data), size=(1,)).item()\n",
    "    img, label = training_data[sample_idx]\n",
    "    figure.add_subplot(rows, cols, i)\n",
    "    plt.title(labels_map[label])\n",
    "    plt.axis(\"off\")\n",
    "    plt.imshow(img.squeeze(), cmap=\"gray\")\n",
    "plt.show()"
   ]
  },
  {
   "cell_type": "markdown",
   "metadata": {},
   "source": [
    "Generemos ahora instancias de la clase `DataLoader` para estos objetos derivados de la clase `DataSet`."
   ]
  },
  {
   "cell_type": "code",
   "execution_count": 23,
   "metadata": {},
   "outputs": [],
   "source": [
    "train_dataloader = DataLoader(training_data, batch_size=9)\n",
    "test_dataloader = DataLoader(test_data, batch_size=9)"
   ]
  },
  {
   "cell_type": "markdown",
   "metadata": {},
   "source": [
    "Veamos como estos objetos funcionan"
   ]
  },
  {
   "cell_type": "code",
   "execution_count": 24,
   "metadata": {},
   "outputs": [],
   "source": [
    "# Generamos un iterador a partir del objeto \"train_dataloader\"\n",
    "\n",
    "train_dataloader_iterable = iter(train_dataloader)"
   ]
  },
  {
   "cell_type": "code",
   "execution_count": 27,
   "metadata": {},
   "outputs": [
    {
     "name": "stdout",
     "output_type": "stream",
     "text": [
      "Feature batch shape: torch.Size([9, 1, 28, 28])\n",
      "Labels batch shape: torch.Size([9])\n"
     ]
    },
    {
     "data": {
      "image/png": "[encoded data removed]",
      "text/plain": [
       "<Figure size 576x576 with 9 Axes>"
      ]
     },
     "metadata": {
      "needs_background": "light"
     },
     "output_type": "display_data"
    }
   ],
   "source": [
    "# Pedimos un batch\n",
    "\n",
    "train_features, train_labels = next(train_dataloader_iterable)\n",
    "print(f\"Feature batch shape: {train_features.size()}\")\n",
    "print(f\"Labels batch shape: {train_labels.size()}\")\n",
    "\n",
    "# Graficamos las imágenes del batch.\n",
    "\n",
    "figure = plt.figure(figsize=(8, 8))\n",
    "cols, rows = 3, 3\n",
    "for i in range(cols * rows):\n",
    "    img   = train_features[i]\n",
    "    label = train_labels[i]\n",
    "    figure.add_subplot(rows, cols, i+1)\n",
    "    plt.title(labels_map[label.item()])\n",
    "    plt.axis(\"off\")\n",
    "    plt.imshow(img.squeeze(), cmap=\"gray\")\n",
    "    #print(f\"Label: {label}\")\n",
    "plt.show()"
   ]
  },
  {
   "cell_type": "markdown",
   "metadata": {},
   "source": [
    "Ya estamos en condiciones de implementar el entrenador del modelo."
   ]
  },
  {
   "cell_type": "code",
   "execution_count": 30,
   "metadata": {},
   "outputs": [],
   "source": [
    "# Definimos la función de entrenamiento\n",
    "def train_loop(dataloader, model, loss_fn, optimizer):\n",
    "    size = len(dataloader.dataset)\n",
    "\n",
    "    # Iteramos sobre lotes (batchs)\n",
    "    for batch, (X, y) in enumerate(dataloader):\n",
    "        # Calculamos la predicción del modelo y la correspondiente pérdida (error)\n",
    "        pred = model(X)\n",
    "        loss = loss_fn(pred, y)\n",
    "\n",
    "        # Backpropagamos usando el optimizador proveido.\n",
    "        optimizer.zero_grad()\n",
    "        loss.backward()\n",
    "        optimizer.step()\n",
    "\n",
    "        # Imprimimos el progreso...\n",
    "        if batch % 100 == 0: \n",
    "            loss, current = loss.item(), batch * len(X)\n",
    "            print(f\"batch={batch} loss={loss:>7f}  muestras-procesadas:[{current:>5d}/{size:>5d}]\")\n",
    "\n",
    "# De manera similar, definimos la función de testeo\n",
    "def test_loop(dataloader, model, loss_fn):\n",
    "    size = len(dataloader.dataset)\n",
    "    num_batches = len(dataloader)\n",
    "    test_loss, correct = 0, 0\n",
    "\n",
    "    # Para testear, desactivamos el cálculo de gradientes.\n",
    "    with torch.no_grad():\n",
    "        # Iteramos sobre lotes (batches)\n",
    "        for X, y in dataloader:\n",
    "            # Calculamos las predicciones del modelo...\n",
    "            pred = model(X)\n",
    "            # y las correspondientes pérdidas (errores), los cuales vamos acumulando en un valor total.\n",
    "            test_loss += loss_fn(pred, y).item()\n",
    "            # También calculamos el número de predicciones correctas, y lo acumulamos en un total.\n",
    "            correct += (pred.argmax(1) == y).type(torch.float).sum().item()\n",
    "\n",
    "    # Calculamos la pérdida total y la fracción de clasificaciones correctas, y las imprimimos.\n",
    "    test_loss /= num_batches\n",
    "    correct /= size\n",
    "    print(f\"Test Error: \\n Accuracy: {(100*correct):>0.1f}%, Avg loss: {test_loss:>8f} \\n\")"
   ]
  },
  {
   "cell_type": "code",
   "execution_count": 28,
   "metadata": {},
   "outputs": [],
   "source": [
    "# Definimos los hiperparámetros del entrenamiento\n",
    "\n",
    "learning_rate = 1e-3\n",
    "batch_size = 64\n",
    "epochs = 5"
   ]
  },
  {
   "cell_type": "code",
   "execution_count": 31,
   "metadata": {},
   "outputs": [],
   "source": [
    "train_dataloader = DataLoader(training_data, batch_size=batch_size)\n",
    "test_dataloader = DataLoader(test_data, batch_size=batch_size)"
   ]
  },
  {
   "cell_type": "code",
   "execution_count": 32,
   "metadata": {},
   "outputs": [
    {
     "name": "stdout",
     "output_type": "stream",
     "text": [
      "Epoch 1\n",
      "-------------------------------\n",
      "batch=0 loss=2.315912  muestras-procesadas:[    0/60000]\n",
      "batch=100 loss=2.294068  muestras-procesadas:[ 6400/60000]\n",
      "batch=200 loss=2.282490  muestras-procesadas:[12800/60000]\n",
      "batch=300 loss=2.269007  muestras-procesadas:[19200/60000]\n",
      "batch=400 loss=2.253173  muestras-procesadas:[25600/60000]\n",
      "batch=500 loss=2.233917  muestras-procesadas:[32000/60000]\n",
      "batch=600 loss=2.231870  muestras-procesadas:[38400/60000]\n",
      "batch=700 loss=2.207069  muestras-procesadas:[44800/60000]\n",
      "batch=800 loss=2.208282  muestras-procesadas:[51200/60000]\n",
      "batch=900 loss=2.164351  muestras-procesadas:[57600/60000]\n",
      "Test Error: \n",
      " Accuracy: 48.2%, Avg loss: 2.162989 \n",
      "\n",
      "Epoch 2\n",
      "-------------------------------\n",
      "batch=0 loss=2.178922  muestras-procesadas:[    0/60000]\n",
      "batch=100 loss=2.157137  muestras-procesadas:[ 6400/60000]\n",
      "batch=200 loss=2.116301  muestras-procesadas:[12800/60000]\n",
      "batch=300 loss=2.123219  muestras-procesadas:[19200/60000]\n",
      "batch=400 loss=2.066084  muestras-procesadas:[25600/60000]\n",
      "batch=500 loss=2.019435  muestras-procesadas:[32000/60000]\n",
      "batch=600 loss=2.037917  muestras-procesadas:[38400/60000]\n",
      "batch=700 loss=1.967849  muestras-procesadas:[44800/60000]\n",
      "batch=800 loss=1.982112  muestras-procesadas:[51200/60000]\n",
      "batch=900 loss=1.890980  muestras-procesadas:[57600/60000]\n",
      "Test Error: \n",
      " Accuracy: 50.9%, Avg loss: 1.894267 \n",
      "\n",
      "Epoch 3\n",
      "-------------------------------\n",
      "batch=0 loss=1.939263  muestras-procesadas:[    0/60000]\n",
      "batch=100 loss=1.891036  muestras-procesadas:[ 6400/60000]\n",
      "batch=200 loss=1.797585  muestras-procesadas:[12800/60000]\n",
      "batch=300 loss=1.818247  muestras-procesadas:[19200/60000]\n",
      "batch=400 loss=1.708974  muestras-procesadas:[25600/60000]\n",
      "batch=500 loss=1.672555  muestras-procesadas:[32000/60000]\n",
      "batch=600 loss=1.685732  muestras-procesadas:[38400/60000]\n",
      "batch=700 loss=1.597360  muestras-procesadas:[44800/60000]\n",
      "batch=800 loss=1.631051  muestras-procesadas:[51200/60000]\n",
      "batch=900 loss=1.508206  muestras-procesadas:[57600/60000]\n",
      "Test Error: \n",
      " Accuracy: 58.7%, Avg loss: 1.527325 \n",
      "\n",
      "Epoch 4\n",
      "-------------------------------\n",
      "batch=0 loss=1.608177  muestras-procesadas:[    0/60000]\n",
      "batch=100 loss=1.556574  muestras-procesadas:[ 6400/60000]\n",
      "batch=200 loss=1.425070  muestras-procesadas:[12800/60000]\n",
      "batch=300 loss=1.473792  muestras-procesadas:[19200/60000]\n",
      "batch=400 loss=1.364964  muestras-procesadas:[25600/60000]\n",
      "batch=500 loss=1.367333  muestras-procesadas:[32000/60000]\n",
      "batch=600 loss=1.376480  muestras-procesadas:[38400/60000]\n",
      "batch=700 loss=1.305061  muestras-procesadas:[44800/60000]\n",
      "batch=800 loss=1.340707  muestras-procesadas:[51200/60000]\n",
      "batch=900 loss=1.240599  muestras-procesadas:[57600/60000]\n",
      "Test Error: \n",
      " Accuracy: 63.2%, Avg loss: 1.257284 \n",
      "\n",
      "Epoch 5\n",
      "-------------------------------\n",
      "batch=0 loss=1.339500  muestras-procesadas:[    0/60000]\n",
      "batch=100 loss=1.315835  muestras-procesadas:[ 6400/60000]\n",
      "batch=200 loss=1.160071  muestras-procesadas:[12800/60000]\n",
      "batch=300 loss=1.250123  muestras-procesadas:[19200/60000]\n",
      "batch=400 loss=1.133659  muestras-procesadas:[25600/60000]\n",
      "batch=500 loss=1.163050  muestras-procesadas:[32000/60000]\n",
      "batch=600 loss=1.183404  muestras-procesadas:[38400/60000]\n",
      "batch=700 loss=1.121180  muestras-procesadas:[44800/60000]\n",
      "batch=800 loss=1.156922  muestras-procesadas:[51200/60000]\n",
      "batch=900 loss=1.081232  muestras-procesadas:[57600/60000]\n",
      "Test Error: \n",
      " Accuracy: 65.3%, Avg loss: 1.090072 \n",
      "\n",
      "Epoch 6\n",
      "-------------------------------\n",
      "batch=0 loss=1.159468  muestras-procesadas:[    0/60000]\n",
      "batch=100 loss=1.162995  muestras-procesadas:[ 6400/60000]\n",
      "batch=200 loss=0.988602  muestras-procesadas:[12800/60000]\n",
      "batch=300 loss=1.112254  muestras-procesadas:[19200/60000]\n",
      "batch=400 loss=0.993412  muestras-procesadas:[25600/60000]\n",
      "batch=500 loss=1.027266  muestras-procesadas:[32000/60000]\n",
      "batch=600 loss=1.063415  muestras-procesadas:[38400/60000]\n",
      "batch=700 loss=1.005793  muestras-procesadas:[44800/60000]\n",
      "batch=800 loss=1.039830  muestras-procesadas:[51200/60000]\n",
      "batch=900 loss=0.980247  muestras-procesadas:[57600/60000]\n",
      "Test Error: \n",
      " Accuracy: 66.2%, Avg loss: 0.983356 \n",
      "\n",
      "Epoch 7\n",
      "-------------------------------\n",
      "batch=0 loss=1.037265  muestras-procesadas:[    0/60000]\n",
      "batch=100 loss=1.064730  muestras-procesadas:[ 6400/60000]\n",
      "batch=200 loss=0.873181  muestras-procesadas:[12800/60000]\n",
      "batch=300 loss=1.020327  muestras-procesadas:[19200/60000]\n",
      "batch=400 loss=0.906266  muestras-procesadas:[25600/60000]\n",
      "batch=500 loss=0.932704  muestras-procesadas:[32000/60000]\n",
      "batch=600 loss=0.984559  muestras-procesadas:[38400/60000]\n",
      "batch=700 loss=0.930978  muestras-procesadas:[44800/60000]\n",
      "batch=800 loss=0.960011  muestras-procesadas:[51200/60000]\n",
      "batch=900 loss=0.912900  muestras-procesadas:[57600/60000]\n",
      "Test Error: \n",
      " Accuracy: 67.2%, Avg loss: 0.910961 \n",
      "\n",
      "Epoch 8\n",
      "-------------------------------\n",
      "batch=0 loss=0.948964  muestras-procesadas:[    0/60000]\n",
      "batch=100 loss=0.996827  muestras-procesadas:[ 6400/60000]\n",
      "batch=200 loss=0.791003  muestras-procesadas:[12800/60000]\n",
      "batch=300 loss=0.954864  muestras-procesadas:[19200/60000]\n",
      "batch=400 loss=0.848688  muestras-procesadas:[25600/60000]\n",
      "batch=500 loss=0.864018  muestras-procesadas:[32000/60000]\n",
      "batch=600 loss=0.929154  muestras-procesadas:[38400/60000]\n",
      "batch=700 loss=0.880834  muestras-procesadas:[44800/60000]\n",
      "batch=800 loss=0.903170  muestras-procesadas:[51200/60000]\n",
      "batch=900 loss=0.864917  muestras-procesadas:[57600/60000]\n",
      "Test Error: \n",
      " Accuracy: 68.5%, Avg loss: 0.859032 \n",
      "\n",
      "Epoch 9\n",
      "-------------------------------\n",
      "batch=0 loss=0.881692  muestras-procesadas:[    0/60000]\n",
      "batch=100 loss=0.946252  muestras-procesadas:[ 6400/60000]\n",
      "batch=200 loss=0.729773  muestras-procesadas:[12800/60000]\n",
      "batch=300 loss=0.905929  muestras-procesadas:[19200/60000]\n",
      "batch=400 loss=0.808041  muestras-procesadas:[25600/60000]\n",
      "batch=500 loss=0.812430  muestras-procesadas:[32000/60000]\n",
      "batch=600 loss=0.887646  muestras-procesadas:[38400/60000]\n",
      "batch=700 loss=0.845829  muestras-procesadas:[44800/60000]\n",
      "batch=800 loss=0.860937  muestras-procesadas:[51200/60000]\n",
      "batch=900 loss=0.828402  muestras-procesadas:[57600/60000]\n",
      "Test Error: \n",
      " Accuracy: 69.8%, Avg loss: 0.819866 \n",
      "\n",
      "Epoch 10\n",
      "-------------------------------\n",
      "batch=0 loss=0.828237  muestras-procesadas:[    0/60000]\n",
      "batch=100 loss=0.906157  muestras-procesadas:[ 6400/60000]\n",
      "batch=200 loss=0.682086  muestras-procesadas:[12800/60000]\n",
      "batch=300 loss=0.868101  muestras-procesadas:[19200/60000]\n",
      "batch=400 loss=0.777222  muestras-procesadas:[25600/60000]\n",
      "batch=500 loss=0.773059  muestras-procesadas:[32000/60000]\n",
      "batch=600 loss=0.854423  muestras-procesadas:[38400/60000]\n",
      "batch=700 loss=0.819976  muestras-procesadas:[44800/60000]\n",
      "batch=800 loss=0.828294  muestras-procesadas:[51200/60000]\n",
      "batch=900 loss=0.799206  muestras-procesadas:[57600/60000]\n",
      "Test Error: \n",
      " Accuracy: 70.9%, Avg loss: 0.788956 \n",
      "\n",
      "Done!\n"
     ]
    }
   ],
   "source": [
    "# Creamos una instancia de una función de pérdida, una entropy loss en este caso\n",
    "loss_fn = nn.CrossEntropyLoss()\n",
    "# y un optimizador, un Stochastic Gradient Descent, en este caso.\n",
    "optimizer = torch.optim.SGD(model.parameters(), lr=learning_rate)\n",
    "\n",
    "# Finalmente, entrenamos iterando sobre épocas\n",
    "epochs = 10\n",
    "for t in range(epochs):\n",
    "    print(f\"Epoch {t+1}\\n-------------------------------\")\n",
    "    train_loop(train_dataloader, model, loss_fn, optimizer)\n",
    "    test_loop(test_dataloader, model, loss_fn)\n",
    "print(\"Done!\")"
   ]
  },
  {
   "cell_type": "markdown",
   "metadata": {},
   "source": [
    "Se tienen 60 mil imágenes para entrenar y se dejan 10 mil para hacer la validación, esto viene prefijado y es un problema porque se dejaron los 10 ejemplos más dificiles para validar. Entonces la curva de aprendizaje esta por debajo de la curva de error. "
   ]
  }
 ],
 "metadata": {
  "@webio": {
   "lastCommId": null,
   "lastKernelId": null
  },
  "kernelspec": {
   "display_name": "Python 3 (ipykernel)",
   "language": "python",
   "name": "python3"
  },
  "language_info": {
   "codemirror_mode": {
    "name": "ipython",
    "version": 3
   },
   "file_extension": ".py",
   "mimetype": "text/x-python",
   "name": "python",
   "nbconvert_exporter": "python",
   "pygments_lexer": "ipython3",
   "version": "3.9.7"
  }
 },
 "nbformat": 4,
 "nbformat_minor": 4
}
